{
 "cells": [
  {
   "cell_type": "markdown",
   "metadata": {},
   "source": [
    "# CENSUS DATA WRANGLING"
   ]
  },
  {
   "cell_type": "markdown",
   "metadata": {},
   "source": [
    "## Guide\n",
    "\n",
    "1. **Step 1: Load Packages, Functions, and Data Dictionary**\n",
    "2. **Step 2: Find Variables Using Data Dictionary**\n",
    "3. **Step 3: Fetch Raw Block Group Data From Census API**\n",
    "4. **Step 4: Engineer and Format Features Using Raw Data**\n",
    "- **Appendix A - EXTRA FEATURE: Variable Key Search Using `censusdata` Package** <br>\n",
    "- **Appendix B - EXTRA FEATURE: Extracting Zip Code Data**"
   ]
  },
  {
   "cell_type": "markdown",
   "metadata": {},
   "source": [
    "### Step 1: Load Packages, Functions, and Data Dictionary"
   ]
  },
  {
   "cell_type": "code",
   "execution_count": 226,
   "metadata": {},
   "outputs": [],
   "source": [
    "def standardize_col_names(df):\n",
    "    '''\n",
    "    Standardizes column names of a dataframe.\n",
    "    It will remove white space, replace spaces with underscores, and eliminate special characters (including parenthesis and slashes).\n",
    "    \n",
    "    Parameters\n",
    "    ----------\n",
    "    \n",
    "    df : Dataframe object\n",
    "    \n",
    "    Return Values\n",
    "    -------------\n",
    "    Dataframe with column names standardized.\n",
    "    '''\n",
    "    df.columns = (df.columns\n",
    "                .str.strip()\n",
    "                .str.lower()\n",
    "                .str.replace(' ', '_')\n",
    "                .str.replace(':', '_')\n",
    "                .str.replace('(', '')\n",
    "                .str.replace(')', '')\n",
    "                .str.replace('/','')\n",
    "                .str.replace('\\\\',''))\n",
    "    return df\n"
   ]
  },
  {
   "cell_type": "code",
   "execution_count": 237,
   "metadata": {},
   "outputs": [],
   "source": [
    "def numerizer(three_digit_string):\n",
    "    \"\"\"\n",
    "    transforms string of three digits into a number\n",
    "    \"\"\"\n",
    "    return three_digit_string[0]*100 + three_digit_string[1]*10 + three_digit_string[2]"
   ]
  },
  {
   "cell_type": "code",
   "execution_count": 239,
   "metadata": {},
   "outputs": [],
   "source": [
    "def range_creator(head, beginning, end):\n",
    "    \"\"\"\n",
    "    creates full list of variables to retrieve from var_xxx-var_xxx\n",
    "    \"\"\"\n",
    "    more_than_99 = [head + str(i) + 'E' for i in range(beginning, end+1) if len(str(i))==3]\n",
    "    less_than_100s = [head + '0' + str(i) + 'E' for i in range(beginning, end+1) if len(str(i))==2]\n",
    "    less_than_10s = [head + '00' + str(i) + 'E' for i in range(beginning, end+1) if len(str(i))==1]\n",
    "    full_range = less_than_10s + less_than_100s + more_than_99\n",
    "    return full_range"
   ]
  },
  {
   "cell_type": "code",
   "execution_count": 279,
   "metadata": {},
   "outputs": [],
   "source": [
    "def sum_extract_divide(var, splitter='-'):\n",
    "    \"\"\"\n",
    "    extracts list of variables to add, adds them, and divides the sum by the denominator var[1]\n",
    "    \"\"\"\n",
    "    digits_0 = [int(s) for s in var[0].split('+')[0].split(splitter)[0][-3:] if s.isdigit()]\n",
    "    digits_1 = [int(s) for s in var[0].split('+')[0].split(splitter)[1][-4:] if s.isdigit()]\n",
    "    digits_2 = [int(s) for s in var[0].split('+')[1].split(splitter)[0][-3:] if s.isdigit()]\n",
    "    digits_3 = [int(s) for s in var[0].split('+')[1].split(splitter)[1][-5:] if s.isdigit()]\n",
    "    beginning_a = numerizer(digits_0)\n",
    "    end_a = numerizer(digits_1)\n",
    "    beginning_b = numerizer(digits_2)\n",
    "    end_b = numerizer(digits_3)\n",
    "    first_range = range_creator(var[0].split('+')[0][-11:-4], beginning_a, end_a)\n",
    "    second_range = range_creator(var[0].split('+')[1][-12:-5], beginning_b, end_b)\n",
    "    first_total = df[first_range].sum(axis=1)\n",
    "    second_total = df[second_range].sum(axis=1)\n",
    "    try:\n",
    "        output = (first_total + second_total)/df[var[1]+'E']\n",
    "    except ZeroDivisionError as err:\n",
    "        output = 0"
   ]
  },
  {
   "cell_type": "code",
   "execution_count": 2,
   "metadata": {},
   "outputs": [
    {
     "name": "stdout",
     "output_type": "stream",
     "text": [
      "Requirement already satisfied: censusdata in c:\\programdata\\anaconda3\\lib\\site-packages (1.7)\n",
      "Requirement already satisfied: pandas in c:\\users\\ian\\appdata\\roaming\\python\\python37\\site-packages (from censusdata) (1.0.1)\n",
      "Requirement already satisfied: requests in c:\\programdata\\anaconda3\\lib\\site-packages (from censusdata) (2.23.0)\n",
      "Requirement already satisfied: pytz>=2017.2 in c:\\programdata\\anaconda3\\lib\\site-packages (from pandas->censusdata) (2020.1)\n",
      "Requirement already satisfied: python-dateutil>=2.6.1 in c:\\programdata\\anaconda3\\lib\\site-packages (from pandas->censusdata) (2.8.1)\n",
      "Requirement already satisfied: numpy>=1.13.3 in c:\\programdata\\anaconda3\\lib\\site-packages (from pandas->censusdata) (1.18.1)\n",
      "Requirement already satisfied: chardet<4,>=3.0.2 in c:\\programdata\\anaconda3\\lib\\site-packages (from requests->censusdata) (3.0.4)\n",
      "Requirement already satisfied: idna<3,>=2.5 in c:\\programdata\\anaconda3\\lib\\site-packages (from requests->censusdata) (2.9)\n",
      "Requirement already satisfied: certifi>=2017.4.17 in c:\\programdata\\anaconda3\\lib\\site-packages (from requests->censusdata) (2020.4.5.2)\n",
      "Requirement already satisfied: urllib3!=1.25.0,!=1.25.1,<1.26,>=1.21.1 in c:\\programdata\\anaconda3\\lib\\site-packages (from requests->censusdata) (1.25.9)\n",
      "Requirement already satisfied: six>=1.5 in c:\\programdata\\anaconda3\\lib\\site-packages (from python-dateutil>=2.6.1->pandas->censusdata) (1.15.0)\n"
     ]
    }
   ],
   "source": [
    "# install package for wrangling census data\n",
    "!pip install censusdata"
   ]
  },
  {
   "cell_type": "code",
   "execution_count": 311,
   "metadata": {},
   "outputs": [],
   "source": [
    "import re\n",
    "import numpy as np\n",
    "import pandas as pd\n",
    "import censusdata\n",
    "import os\n",
    "import sys\n",
    "from tqdm.notebook import tqdm # progress bar for step 3"
   ]
  },
  {
   "cell_type": "code",
   "execution_count": 261,
   "metadata": {},
   "outputs": [],
   "source": [
    "# import api key to avoid request limits (needed if getting all block group data); get from here https://www.census.gov/developers/ (takes 1-5 min)\n",
    "with open('api-key.txt', 'r') as file:\n",
    "    api_key = file.read()"
   ]
  },
  {
   "cell_type": "code",
   "execution_count": 316,
   "metadata": {},
   "outputs": [],
   "source": [
    "src_path = os.path.abspath('../src/data/')\n",
    "sys.path.append(src_path)\n",
    "\n",
    "from acs_getter import *"
   ]
  },
  {
   "cell_type": "code",
   "execution_count": 313,
   "metadata": {},
   "outputs": [],
   "source": [
    " # setup input and output locations\n",
    "input_loc = '../data/processed/'\n",
    "output_loc = '../data/processed/'"
   ]
  },
  {
   "cell_type": "markdown",
   "metadata": {},
   "source": [
    "### Step 2: Find Variables Using Data Dictionary"
   ]
  },
  {
   "cell_type": "code",
   "execution_count": 314,
   "metadata": {},
   "outputs": [],
   "source": [
    "# read in data dictionary excel sheet\n",
    "data_dictionary = pd.read_excel (input_loc + 'ACS Block Group Data Dictionary.xlsx', header=8, usecols=\"A:G\")"
   ]
  },
  {
   "cell_type": "code",
   "execution_count": 321,
   "metadata": {},
   "outputs": [
    {
     "data": {
      "text/html": [
       "<div>\n",
       "<style scoped>\n",
       "    .dataframe tbody tr th:only-of-type {\n",
       "        vertical-align: middle;\n",
       "    }\n",
       "\n",
       "    .dataframe tbody tr th {\n",
       "        vertical-align: top;\n",
       "    }\n",
       "\n",
       "    .dataframe thead th {\n",
       "        text-align: right;\n",
       "    }\n",
       "</style>\n",
       "<table border=\"1\" class=\"dataframe\">\n",
       "  <thead>\n",
       "    <tr style=\"text-align: right;\">\n",
       "      <th></th>\n",
       "      <th>metric</th>\n",
       "      <th>acs_variables_used</th>\n",
       "      <th>variable_name_in_dataset</th>\n",
       "      <th>calculated_</th>\n",
       "      <th>variable_main_level_description</th>\n",
       "      <th>variable_sub-level_description</th>\n",
       "      <th>variable_population_as_described_by_the_census</th>\n",
       "    </tr>\n",
       "  </thead>\n",
       "  <tbody>\n",
       "    <tr>\n",
       "      <th>0</th>\n",
       "      <td>Income</td>\n",
       "      <td>B19301_001</td>\n",
       "      <td>inc_pcincome</td>\n",
       "      <td>B19301_001</td>\n",
       "      <td>Per Capita Income in the Past 12 Months (In 20...</td>\n",
       "      <td>Per Capita Income in the Past 12 Months (In 20...</td>\n",
       "      <td>Total Population</td>\n",
       "    </tr>\n",
       "    <tr>\n",
       "      <th>1</th>\n",
       "      <td>Income</td>\n",
       "      <td>B17021_001</td>\n",
       "      <td>tot_population</td>\n",
       "      <td>B17021_001</td>\n",
       "      <td>Poverty Status of Individuals in the Past 12 m...</td>\n",
       "      <td>Total</td>\n",
       "      <td>Population for which poverty status can be det...</td>\n",
       "    </tr>\n",
       "    <tr>\n",
       "      <th>2</th>\n",
       "      <td>Income</td>\n",
       "      <td>B17021_002</td>\n",
       "      <td>inc_pct_poverty</td>\n",
       "      <td>B17021_002/B17021_001</td>\n",
       "      <td>Poverty Status of Individuals in the Past 12 m...</td>\n",
       "      <td>Income in the past 12 months is below poverty ...</td>\n",
       "      <td>Population for which poverty status can be det...</td>\n",
       "    </tr>\n",
       "    <tr>\n",
       "      <th>3</th>\n",
       "      <td>Race</td>\n",
       "      <td>B02001_001</td>\n",
       "      <td>NaN</td>\n",
       "      <td>B02001_001</td>\n",
       "      <td>Race</td>\n",
       "      <td>Total</td>\n",
       "      <td>Total Population</td>\n",
       "    </tr>\n",
       "    <tr>\n",
       "      <th>4</th>\n",
       "      <td>Race</td>\n",
       "      <td>B02001_002</td>\n",
       "      <td>race_pct_white</td>\n",
       "      <td>B02001_002/B02001_001</td>\n",
       "      <td>Race</td>\n",
       "      <td>White Alone</td>\n",
       "      <td>Total Population</td>\n",
       "    </tr>\n",
       "    <tr>\n",
       "      <th>...</th>\n",
       "      <td>...</td>\n",
       "      <td>...</td>\n",
       "      <td>...</td>\n",
       "      <td>...</td>\n",
       "      <td>...</td>\n",
       "      <td>...</td>\n",
       "      <td>...</td>\n",
       "    </tr>\n",
       "    <tr>\n",
       "      <th>121</th>\n",
       "      <td>SNAP and Disability</td>\n",
       "      <td>B22010_001</td>\n",
       "      <td>total_households</td>\n",
       "      <td>B22010_001</td>\n",
       "      <td>Receipt of Food Stamps by Disability</td>\n",
       "      <td>Total</td>\n",
       "      <td>Households</td>\n",
       "    </tr>\n",
       "    <tr>\n",
       "      <th>122</th>\n",
       "      <td>SNAP and Disability</td>\n",
       "      <td>B22010_002</td>\n",
       "      <td>pct_snap_past_12mo</td>\n",
       "      <td>B22010_002/B22010_001</td>\n",
       "      <td>Receipt of Food Stamps by Disability</td>\n",
       "      <td>Households that Received Food Stamps/SNAP in t...</td>\n",
       "      <td>Households</td>\n",
       "    </tr>\n",
       "    <tr>\n",
       "      <th>123</th>\n",
       "      <td>SNAP and Disability</td>\n",
       "      <td>B22010_003, B22010_006</td>\n",
       "      <td>pct_disability</td>\n",
       "      <td>(B22010_003 + B22010_006) / B22010_001</td>\n",
       "      <td>Receipt of Food Stamps by Disability</td>\n",
       "      <td>Households with 1 or more persons with a disab...</td>\n",
       "      <td>Households</td>\n",
       "    </tr>\n",
       "    <tr>\n",
       "      <th>124</th>\n",
       "      <td>Median Number of Rooms</td>\n",
       "      <td>B25018_001</td>\n",
       "      <td>median_room_num</td>\n",
       "      <td>B25018_001</td>\n",
       "      <td>Median Number of Rooms</td>\n",
       "      <td>Median Number of Rooms</td>\n",
       "      <td>Housing Units</td>\n",
       "    </tr>\n",
       "    <tr>\n",
       "      <th>125</th>\n",
       "      <td>Median Year Structure Built</td>\n",
       "      <td>B25035_001</td>\n",
       "      <td>median_year_built</td>\n",
       "      <td>B25035_001</td>\n",
       "      <td>Median Year Structure Built</td>\n",
       "      <td>Median Year Structure Built</td>\n",
       "      <td>Housing Units</td>\n",
       "    </tr>\n",
       "  </tbody>\n",
       "</table>\n",
       "<p>126 rows × 7 columns</p>\n",
       "</div>"
      ],
      "text/plain": [
       "                           metric      acs_variables_used  \\\n",
       "0                         Income               B19301_001   \n",
       "1                         Income               B17021_001   \n",
       "2                         Income               B17021_002   \n",
       "3                           Race               B02001_001   \n",
       "4                           Race               B02001_002   \n",
       "..                            ...                     ...   \n",
       "121          SNAP and Disability               B22010_001   \n",
       "122          SNAP and Disability               B22010_002   \n",
       "123          SNAP and Disability   B22010_003, B22010_006   \n",
       "124       Median Number of Rooms               B25018_001   \n",
       "125  Median Year Structure Built               B25035_001   \n",
       "\n",
       "    variable_name_in_dataset                             calculated_  \\\n",
       "0               inc_pcincome                              B19301_001   \n",
       "1            tot_population                               B17021_001   \n",
       "2            inc_pct_poverty                   B17021_002/B17021_001   \n",
       "3                        NaN                              B02001_001   \n",
       "4            race_pct_white                    B02001_002/B02001_001   \n",
       "..                       ...                                     ...   \n",
       "121        total_households                               B22010_001   \n",
       "122       pct_snap_past_12mo                   B22010_002/B22010_001   \n",
       "123          pct_disability   (B22010_003 + B22010_006) / B22010_001   \n",
       "124         median_room_num                               B25018_001   \n",
       "125        median_year_built                              B25035_001   \n",
       "\n",
       "                       variable_main_level_description  \\\n",
       "0    Per Capita Income in the Past 12 Months (In 20...   \n",
       "1    Poverty Status of Individuals in the Past 12 m...   \n",
       "2    Poverty Status of Individuals in the Past 12 m...   \n",
       "3                                                Race    \n",
       "4                                                 Race   \n",
       "..                                                 ...   \n",
       "121              Receipt of Food Stamps by Disability    \n",
       "122              Receipt of Food Stamps by Disability    \n",
       "123              Receipt of Food Stamps by Disability    \n",
       "124                            Median Number of Rooms    \n",
       "125                       Median Year Structure Built    \n",
       "\n",
       "                        variable_sub-level_description  \\\n",
       "0    Per Capita Income in the Past 12 Months (In 20...   \n",
       "1                                                Total   \n",
       "2    Income in the past 12 months is below poverty ...   \n",
       "3                                                Total   \n",
       "4                                         White Alone    \n",
       "..                                                 ...   \n",
       "121                                             Total    \n",
       "122  Households that Received Food Stamps/SNAP in t...   \n",
       "123  Households with 1 or more persons with a disab...   \n",
       "124                            Median Number of Rooms    \n",
       "125                       Median Year Structure Built    \n",
       "\n",
       "        variable_population_as_described_by_the_census  \n",
       "0                                    Total Population   \n",
       "1    Population for which poverty status can be det...  \n",
       "2    Population for which poverty status can be det...  \n",
       "3                                     Total Population  \n",
       "4                                     Total Population  \n",
       "..                                                 ...  \n",
       "121                                        Households   \n",
       "122                                        Households   \n",
       "123                                        Households   \n",
       "124                                     Housing Units   \n",
       "125                                     Housing Units   \n",
       "\n",
       "[126 rows x 7 columns]"
      ]
     },
     "execution_count": 321,
     "metadata": {},
     "output_type": "execute_result"
    }
   ],
   "source": [
    "# standardize column names\n",
    "data_dictionary = standardize_col_names(data_dictionary)\n",
    "data_dictionary"
   ]
  },
  {
   "cell_type": "code",
   "execution_count": 262,
   "metadata": {},
   "outputs": [],
   "source": [
    "# extract variables from data dictionary (NOTE uses constants which must be adjusted if new variables are added to dictionary; will fix)\n",
    "df2 = data_dictionary.acs_variables_used.str.split(', ').apply(pd.Series)\n",
    "df2.index = data_dictionary.set_index(['metric', 'variable_name_in_dataset']).index\n",
    "acs_variables = df2.stack().reset_index(['metric', 'variable_name_in_dataset'])[0]\n",
    "acs_variables = acs_variables.reset_index()\n",
    "acs_variables = acs_variables.drop(columns='index')\n",
    "acs_variables = acs_variables[0]\n",
    "variables_list = list(acs_variables[:11])\n",
    "for var in acs_variables[11:17]:\n",
    "    for i in range(int(var[8:10]), int(var[-2:])+1):\n",
    "        if i < 10:\n",
    "            new_var = var[:7]+'00'+str(i)\n",
    "            variables_list.append(new_var)\n",
    "        else:\n",
    "            new_var = var[:7]+'0'+str(i)\n",
    "            variables_list.append(new_var)\n",
    "variables_list += list(acs_variables[17:])\n",
    "variables_list = [x + 'E' for x in variables_list]\n",
    "variables_list"
   ]
  },
  {
   "cell_type": "code",
   "execution_count": 266,
   "metadata": {},
   "outputs": [],
   "source": [
    "variables_list = [x + 'E' for x in variables_list]"
   ]
  },
  {
   "cell_type": "markdown",
   "metadata": {},
   "source": [
    "### Step 3: Fetch Raw Block Group Data From Census API"
   ]
  },
  {
   "cell_type": "markdown",
   "metadata": {},
   "source": [
    "We can't use the '\\*' for states or counties if we're trying to get block group level data so we have to create some lists. We also have to use an API key due to the volume of requests."
   ]
  },
  {
   "cell_type": "code",
   "execution_count": 269,
   "metadata": {},
   "outputs": [],
   "source": [
    "# create state codes\n",
    "state_codes = {\n",
    "    'WA': '53', 'DE': '10', 'DC': '11', 'WI': '55', 'WV': '54', 'HI': '15',\n",
    "    'FL': '12', 'WY': '56', 'NJ': '34', 'NM': '35', \n",
    "    'LA': '22', 'NC': '37', 'ND': '38', 'NE': '31', 'TN': '47', 'NY': '36',\n",
    "    'PA': '42', 'AK': '02', 'NV': '32', 'NH': '33', 'VA': '51',  \n",
    "    'AL': '01', 'AR': '05', 'VT': '50', 'IL': '17', 'GA': '13',\n",
    "    'IN': '18', 'IA': '19', 'MA': '25', 'AZ': '04', 'ID': '16', 'CT': '09',\n",
    "    'ME': '23', 'MD': '24', 'OK': '40', 'OH': '39', 'UT': '49', 'MO': '29',\n",
    "    'MN': '27', 'MI': '26', 'RI': '44', 'KS': '20', 'MT': '30', 'MS': '28',\n",
    "    'SC': '45', 'KY': '21', 'OR': '41', 'SD': '46', 'CO': '08',\n",
    "    'CA': '06',\n",
    "    'TX': '48',\n",
    "}\n",
    "\n",
    "# Create list of numerical codes\n",
    "all_states = list(state_codes.values())"
   ]
  },
  {
   "cell_type": "code",
   "execution_count": 270,
   "metadata": {},
   "outputs": [
    {
     "data": {
      "application/vnd.jupyter.widget-view+json": {
       "model_id": "61b96b87793a4c98b1a7924201f753d8",
       "version_major": 2,
       "version_minor": 0
      },
      "text/plain": [
       "HBox(children=(FloatProgress(value=0.0, max=51.0), HTML(value='')))"
      ]
     },
     "metadata": {},
     "output_type": "display_data"
    },
    {
     "name": "stdout",
     "output_type": "stream",
     "text": [
      "task 1: compiling block group data from state #53\n"
     ]
    },
    {
     "data": {
      "application/vnd.jupyter.widget-view+json": {
       "model_id": "85361beefeed4067aa4849bccdea5c03",
       "version_major": 2,
       "version_minor": 0
      },
      "text/plain": [
       "HBox(children=(FloatProgress(value=0.0, max=39.0), HTML(value='')))"
      ]
     },
     "metadata": {},
     "output_type": "display_data"
    },
    {
     "name": "stdout",
     "output_type": "stream",
     "text": [
      "\n",
      "task 2: compiling block group data from state #10\n"
     ]
    },
    {
     "data": {
      "application/vnd.jupyter.widget-view+json": {
       "model_id": "eb36b1f066b44d19b1a01d26e740c1cd",
       "version_major": 2,
       "version_minor": 0
      },
      "text/plain": [
       "HBox(children=(FloatProgress(value=0.0, max=3.0), HTML(value='')))"
      ]
     },
     "metadata": {},
     "output_type": "display_data"
    },
    {
     "name": "stdout",
     "output_type": "stream",
     "text": [
      "\n",
      "task 3: compiling block group data from state #11\n"
     ]
    },
    {
     "data": {
      "application/vnd.jupyter.widget-view+json": {
       "model_id": "4fe4e686c9df4a8f883f9a9f58e6fa1b",
       "version_major": 2,
       "version_minor": 0
      },
      "text/plain": [
       "HBox(children=(FloatProgress(value=0.0, max=1.0), HTML(value='')))"
      ]
     },
     "metadata": {},
     "output_type": "display_data"
    },
    {
     "name": "stdout",
     "output_type": "stream",
     "text": [
      "\n",
      "task 4: compiling block group data from state #55\n"
     ]
    },
    {
     "data": {
      "application/vnd.jupyter.widget-view+json": {
       "model_id": "2ac2b734973144a4a5d6650355f86d8f",
       "version_major": 2,
       "version_minor": 0
      },
      "text/plain": [
       "HBox(children=(FloatProgress(value=0.0, max=72.0), HTML(value='')))"
      ]
     },
     "metadata": {},
     "output_type": "display_data"
    },
    {
     "name": "stdout",
     "output_type": "stream",
     "text": [
      "\n",
      "task 5: compiling block group data from state #54\n"
     ]
    },
    {
     "data": {
      "application/vnd.jupyter.widget-view+json": {
       "model_id": "31234084501c469da9e77e1cb834f05f",
       "version_major": 2,
       "version_minor": 0
      },
      "text/plain": [
       "HBox(children=(FloatProgress(value=0.0, max=55.0), HTML(value='')))"
      ]
     },
     "metadata": {},
     "output_type": "display_data"
    },
    {
     "name": "stdout",
     "output_type": "stream",
     "text": [
      "\n",
      "task 6: compiling block group data from state #15\n"
     ]
    },
    {
     "data": {
      "application/vnd.jupyter.widget-view+json": {
       "model_id": "556d51518fd048a092666f251514b3bf",
       "version_major": 2,
       "version_minor": 0
      },
      "text/plain": [
       "HBox(children=(FloatProgress(value=0.0, max=5.0), HTML(value='')))"
      ]
     },
     "metadata": {},
     "output_type": "display_data"
    },
    {
     "name": "stdout",
     "output_type": "stream",
     "text": [
      "\n",
      "task 7: compiling block group data from state #12\n"
     ]
    },
    {
     "data": {
      "application/vnd.jupyter.widget-view+json": {
       "model_id": "0a9dfd8e691c462a884ef62c7434fdf1",
       "version_major": 2,
       "version_minor": 0
      },
      "text/plain": [
       "HBox(children=(FloatProgress(value=0.0, max=67.0), HTML(value='')))"
      ]
     },
     "metadata": {},
     "output_type": "display_data"
    },
    {
     "name": "stdout",
     "output_type": "stream",
     "text": [
      "\n",
      "task 8: compiling block group data from state #56\n"
     ]
    },
    {
     "data": {
      "application/vnd.jupyter.widget-view+json": {
       "model_id": "baf462f6474247458bb8102c97643e6a",
       "version_major": 2,
       "version_minor": 0
      },
      "text/plain": [
       "HBox(children=(FloatProgress(value=0.0, max=23.0), HTML(value='')))"
      ]
     },
     "metadata": {},
     "output_type": "display_data"
    },
    {
     "name": "stdout",
     "output_type": "stream",
     "text": [
      "\n",
      "task 9: compiling block group data from state #34\n"
     ]
    },
    {
     "data": {
      "application/vnd.jupyter.widget-view+json": {
       "model_id": "e476510e614c48c683eb94831a1e2130",
       "version_major": 2,
       "version_minor": 0
      },
      "text/plain": [
       "HBox(children=(FloatProgress(value=0.0, max=21.0), HTML(value='')))"
      ]
     },
     "metadata": {},
     "output_type": "display_data"
    },
    {
     "name": "stdout",
     "output_type": "stream",
     "text": [
      "\n",
      "task 10: compiling block group data from state #35\n"
     ]
    },
    {
     "data": {
      "application/vnd.jupyter.widget-view+json": {
       "model_id": "38de2b020d684ce8b98ebf2b1eb46418",
       "version_major": 2,
       "version_minor": 0
      },
      "text/plain": [
       "HBox(children=(FloatProgress(value=0.0, max=33.0), HTML(value='')))"
      ]
     },
     "metadata": {},
     "output_type": "display_data"
    },
    {
     "name": "stdout",
     "output_type": "stream",
     "text": [
      "\n",
      "task 11: compiling block group data from state #22\n"
     ]
    },
    {
     "data": {
      "application/vnd.jupyter.widget-view+json": {
       "model_id": "349328b425244f9d8eee0bfeff499582",
       "version_major": 2,
       "version_minor": 0
      },
      "text/plain": [
       "HBox(children=(FloatProgress(value=0.0, max=64.0), HTML(value='')))"
      ]
     },
     "metadata": {},
     "output_type": "display_data"
    },
    {
     "name": "stdout",
     "output_type": "stream",
     "text": [
      "\n",
      "task 12: compiling block group data from state #37\n"
     ]
    },
    {
     "data": {
      "application/vnd.jupyter.widget-view+json": {
       "model_id": "7888580b338f4a308b532a7074f9943a",
       "version_major": 2,
       "version_minor": 0
      },
      "text/plain": [
       "HBox(children=(FloatProgress(value=0.0), HTML(value='')))"
      ]
     },
     "metadata": {},
     "output_type": "display_data"
    },
    {
     "name": "stdout",
     "output_type": "stream",
     "text": [
      "\n",
      "task 13: compiling block group data from state #38\n"
     ]
    },
    {
     "data": {
      "application/vnd.jupyter.widget-view+json": {
       "model_id": "e35c29f62a3a45dabcd3fdf097e12fc8",
       "version_major": 2,
       "version_minor": 0
      },
      "text/plain": [
       "HBox(children=(FloatProgress(value=0.0, max=53.0), HTML(value='')))"
      ]
     },
     "metadata": {},
     "output_type": "display_data"
    },
    {
     "name": "stdout",
     "output_type": "stream",
     "text": [
      "\n",
      "task 14: compiling block group data from state #31\n"
     ]
    },
    {
     "data": {
      "application/vnd.jupyter.widget-view+json": {
       "model_id": "bbf29a52c3dc46b49b7f7f81ef214e1c",
       "version_major": 2,
       "version_minor": 0
      },
      "text/plain": [
       "HBox(children=(FloatProgress(value=0.0, max=93.0), HTML(value='')))"
      ]
     },
     "metadata": {},
     "output_type": "display_data"
    },
    {
     "name": "stdout",
     "output_type": "stream",
     "text": [
      "\n",
      "task 15: compiling block group data from state #47\n"
     ]
    },
    {
     "data": {
      "application/vnd.jupyter.widget-view+json": {
       "model_id": "4fb4e237f0fd4334a50526261ecab03f",
       "version_major": 2,
       "version_minor": 0
      },
      "text/plain": [
       "HBox(children=(FloatProgress(value=0.0, max=95.0), HTML(value='')))"
      ]
     },
     "metadata": {},
     "output_type": "display_data"
    },
    {
     "name": "stdout",
     "output_type": "stream",
     "text": [
      "\n",
      "task 16: compiling block group data from state #36\n"
     ]
    },
    {
     "data": {
      "application/vnd.jupyter.widget-view+json": {
       "model_id": "3ae84b6cb9294b8cb6329ce89004656c",
       "version_major": 2,
       "version_minor": 0
      },
      "text/plain": [
       "HBox(children=(FloatProgress(value=0.0, max=62.0), HTML(value='')))"
      ]
     },
     "metadata": {},
     "output_type": "display_data"
    },
    {
     "name": "stdout",
     "output_type": "stream",
     "text": [
      "\n",
      "task 17: compiling block group data from state #42\n"
     ]
    },
    {
     "data": {
      "application/vnd.jupyter.widget-view+json": {
       "model_id": "9bfeab0224354caba974f87012d54afd",
       "version_major": 2,
       "version_minor": 0
      },
      "text/plain": [
       "HBox(children=(FloatProgress(value=0.0, max=67.0), HTML(value='')))"
      ]
     },
     "metadata": {},
     "output_type": "display_data"
    },
    {
     "name": "stdout",
     "output_type": "stream",
     "text": [
      "\n",
      "task 18: compiling block group data from state #02\n"
     ]
    },
    {
     "data": {
      "application/vnd.jupyter.widget-view+json": {
       "model_id": "1528c0dfa75e493081e21130fb13bb63",
       "version_major": 2,
       "version_minor": 0
      },
      "text/plain": [
       "HBox(children=(FloatProgress(value=0.0, max=29.0), HTML(value='')))"
      ]
     },
     "metadata": {},
     "output_type": "display_data"
    },
    {
     "name": "stdout",
     "output_type": "stream",
     "text": [
      "\n",
      "task 19: compiling block group data from state #32\n"
     ]
    },
    {
     "data": {
      "application/vnd.jupyter.widget-view+json": {
       "model_id": "a6777338fb7042e49119fefcd6113bda",
       "version_major": 2,
       "version_minor": 0
      },
      "text/plain": [
       "HBox(children=(FloatProgress(value=0.0, max=17.0), HTML(value='')))"
      ]
     },
     "metadata": {},
     "output_type": "display_data"
    },
    {
     "name": "stdout",
     "output_type": "stream",
     "text": [
      "\n",
      "task 20: compiling block group data from state #33\n"
     ]
    },
    {
     "data": {
      "application/vnd.jupyter.widget-view+json": {
       "model_id": "600c1eeb099145798f07f39e5bffb61a",
       "version_major": 2,
       "version_minor": 0
      },
      "text/plain": [
       "HBox(children=(FloatProgress(value=0.0, max=10.0), HTML(value='')))"
      ]
     },
     "metadata": {},
     "output_type": "display_data"
    },
    {
     "name": "stdout",
     "output_type": "stream",
     "text": [
      "\n",
      "task 21: compiling block group data from state #51\n"
     ]
    },
    {
     "data": {
      "application/vnd.jupyter.widget-view+json": {
       "model_id": "954e01deb549473591526c98faa23b6e",
       "version_major": 2,
       "version_minor": 0
      },
      "text/plain": [
       "HBox(children=(FloatProgress(value=0.0, max=133.0), HTML(value='')))"
      ]
     },
     "metadata": {},
     "output_type": "display_data"
    },
    {
     "name": "stdout",
     "output_type": "stream",
     "text": [
      "\n",
      "task 22: compiling block group data from state #01\n"
     ]
    },
    {
     "data": {
      "application/vnd.jupyter.widget-view+json": {
       "model_id": "cc3864aaaaca4bcd9c5b97307ad5ad69",
       "version_major": 2,
       "version_minor": 0
      },
      "text/plain": [
       "HBox(children=(FloatProgress(value=0.0, max=67.0), HTML(value='')))"
      ]
     },
     "metadata": {},
     "output_type": "display_data"
    },
    {
     "name": "stdout",
     "output_type": "stream",
     "text": [
      "\n",
      "task 23: compiling block group data from state #05\n"
     ]
    },
    {
     "data": {
      "application/vnd.jupyter.widget-view+json": {
       "model_id": "729ac4d654cc4b0ea9371b53a8bdd849",
       "version_major": 2,
       "version_minor": 0
      },
      "text/plain": [
       "HBox(children=(FloatProgress(value=0.0, max=75.0), HTML(value='')))"
      ]
     },
     "metadata": {},
     "output_type": "display_data"
    },
    {
     "name": "stdout",
     "output_type": "stream",
     "text": [
      "\n",
      "task 24: compiling block group data from state #50\n"
     ]
    },
    {
     "data": {
      "application/vnd.jupyter.widget-view+json": {
       "model_id": "f8c30feb460d4f4884472266cd2f2a2a",
       "version_major": 2,
       "version_minor": 0
      },
      "text/plain": [
       "HBox(children=(FloatProgress(value=0.0, max=14.0), HTML(value='')))"
      ]
     },
     "metadata": {},
     "output_type": "display_data"
    },
    {
     "name": "stdout",
     "output_type": "stream",
     "text": [
      "\n",
      "task 25: compiling block group data from state #17\n"
     ]
    },
    {
     "data": {
      "application/vnd.jupyter.widget-view+json": {
       "model_id": "ca6da1e1c38d4e01923913d53469f987",
       "version_major": 2,
       "version_minor": 0
      },
      "text/plain": [
       "HBox(children=(FloatProgress(value=0.0, max=102.0), HTML(value='')))"
      ]
     },
     "metadata": {},
     "output_type": "display_data"
    },
    {
     "name": "stdout",
     "output_type": "stream",
     "text": [
      "\n",
      "task 26: compiling block group data from state #13\n"
     ]
    },
    {
     "data": {
      "application/vnd.jupyter.widget-view+json": {
       "model_id": "adbd17b7864b4b219fcfcfb4b47dd2fd",
       "version_major": 2,
       "version_minor": 0
      },
      "text/plain": [
       "HBox(children=(FloatProgress(value=0.0, max=159.0), HTML(value='')))"
      ]
     },
     "metadata": {},
     "output_type": "display_data"
    },
    {
     "name": "stdout",
     "output_type": "stream",
     "text": [
      "\n",
      "task 27: compiling block group data from state #18\n"
     ]
    },
    {
     "data": {
      "application/vnd.jupyter.widget-view+json": {
       "model_id": "557a5ca369154a088ae4d6b7f08c95fb",
       "version_major": 2,
       "version_minor": 0
      },
      "text/plain": [
       "HBox(children=(FloatProgress(value=0.0, max=92.0), HTML(value='')))"
      ]
     },
     "metadata": {},
     "output_type": "display_data"
    },
    {
     "name": "stdout",
     "output_type": "stream",
     "text": [
      "\n",
      "task 28: compiling block group data from state #19\n"
     ]
    },
    {
     "data": {
      "application/vnd.jupyter.widget-view+json": {
       "model_id": "f50cf1f335de4bf39356478678d3049b",
       "version_major": 2,
       "version_minor": 0
      },
      "text/plain": [
       "HBox(children=(FloatProgress(value=0.0, max=99.0), HTML(value='')))"
      ]
     },
     "metadata": {},
     "output_type": "display_data"
    },
    {
     "name": "stdout",
     "output_type": "stream",
     "text": [
      "\n",
      "task 29: compiling block group data from state #25\n"
     ]
    },
    {
     "data": {
      "application/vnd.jupyter.widget-view+json": {
       "model_id": "005ee52b4e03479da9ebc43e9d3963e5",
       "version_major": 2,
       "version_minor": 0
      },
      "text/plain": [
       "HBox(children=(FloatProgress(value=0.0, max=14.0), HTML(value='')))"
      ]
     },
     "metadata": {},
     "output_type": "display_data"
    },
    {
     "name": "stdout",
     "output_type": "stream",
     "text": [
      "\n",
      "task 30: compiling block group data from state #04\n"
     ]
    },
    {
     "data": {
      "application/vnd.jupyter.widget-view+json": {
       "model_id": "a33af77b1fdf4161a52ab49f6fc14b80",
       "version_major": 2,
       "version_minor": 0
      },
      "text/plain": [
       "HBox(children=(FloatProgress(value=0.0, max=15.0), HTML(value='')))"
      ]
     },
     "metadata": {},
     "output_type": "display_data"
    },
    {
     "name": "stdout",
     "output_type": "stream",
     "text": [
      "\n",
      "task 31: compiling block group data from state #16\n"
     ]
    },
    {
     "data": {
      "application/vnd.jupyter.widget-view+json": {
       "model_id": "4ead2e74b6b04b84af30095d7055f143",
       "version_major": 2,
       "version_minor": 0
      },
      "text/plain": [
       "HBox(children=(FloatProgress(value=0.0, max=44.0), HTML(value='')))"
      ]
     },
     "metadata": {},
     "output_type": "display_data"
    },
    {
     "name": "stdout",
     "output_type": "stream",
     "text": [
      "\n",
      "task 32: compiling block group data from state #09\n"
     ]
    },
    {
     "data": {
      "application/vnd.jupyter.widget-view+json": {
       "model_id": "d55d20223fab49928f2bf27da53b5938",
       "version_major": 2,
       "version_minor": 0
      },
      "text/plain": [
       "HBox(children=(FloatProgress(value=0.0, max=8.0), HTML(value='')))"
      ]
     },
     "metadata": {},
     "output_type": "display_data"
    },
    {
     "name": "stdout",
     "output_type": "stream",
     "text": [
      "\n",
      "task 33: compiling block group data from state #23\n"
     ]
    },
    {
     "data": {
      "application/vnd.jupyter.widget-view+json": {
       "model_id": "7726784714284281a17ec33577422ff5",
       "version_major": 2,
       "version_minor": 0
      },
      "text/plain": [
       "HBox(children=(FloatProgress(value=0.0, max=16.0), HTML(value='')))"
      ]
     },
     "metadata": {},
     "output_type": "display_data"
    },
    {
     "name": "stdout",
     "output_type": "stream",
     "text": [
      "\n",
      "task 34: compiling block group data from state #24\n"
     ]
    },
    {
     "data": {
      "application/vnd.jupyter.widget-view+json": {
       "model_id": "951ec66ecf454663b201e746a8691a47",
       "version_major": 2,
       "version_minor": 0
      },
      "text/plain": [
       "HBox(children=(FloatProgress(value=0.0, max=24.0), HTML(value='')))"
      ]
     },
     "metadata": {},
     "output_type": "display_data"
    },
    {
     "name": "stdout",
     "output_type": "stream",
     "text": [
      "\n",
      "task 35: compiling block group data from state #40\n"
     ]
    },
    {
     "data": {
      "application/vnd.jupyter.widget-view+json": {
       "model_id": "e28e2c503e09477ea175c00a2956fc1b",
       "version_major": 2,
       "version_minor": 0
      },
      "text/plain": [
       "HBox(children=(FloatProgress(value=0.0, max=77.0), HTML(value='')))"
      ]
     },
     "metadata": {},
     "output_type": "display_data"
    },
    {
     "name": "stdout",
     "output_type": "stream",
     "text": [
      "\n",
      "task 36: compiling block group data from state #39\n"
     ]
    },
    {
     "data": {
      "application/vnd.jupyter.widget-view+json": {
       "model_id": "76054817370749deaa4b3cd5fab1d444",
       "version_major": 2,
       "version_minor": 0
      },
      "text/plain": [
       "HBox(children=(FloatProgress(value=0.0, max=88.0), HTML(value='')))"
      ]
     },
     "metadata": {},
     "output_type": "display_data"
    },
    {
     "name": "stdout",
     "output_type": "stream",
     "text": [
      "\n",
      "task 37: compiling block group data from state #49\n"
     ]
    },
    {
     "data": {
      "application/vnd.jupyter.widget-view+json": {
       "model_id": "0c47325414f546a4acf298ef5404df72",
       "version_major": 2,
       "version_minor": 0
      },
      "text/plain": [
       "HBox(children=(FloatProgress(value=0.0, max=29.0), HTML(value='')))"
      ]
     },
     "metadata": {},
     "output_type": "display_data"
    },
    {
     "name": "stdout",
     "output_type": "stream",
     "text": [
      "\n",
      "task 38: compiling block group data from state #29\n"
     ]
    },
    {
     "data": {
      "application/vnd.jupyter.widget-view+json": {
       "model_id": "6f4f8597b96147ddaffbd13fa43dba4c",
       "version_major": 2,
       "version_minor": 0
      },
      "text/plain": [
       "HBox(children=(FloatProgress(value=0.0, max=115.0), HTML(value='')))"
      ]
     },
     "metadata": {},
     "output_type": "display_data"
    },
    {
     "name": "stdout",
     "output_type": "stream",
     "text": [
      "\n",
      "task 39: compiling block group data from state #27\n"
     ]
    },
    {
     "data": {
      "application/vnd.jupyter.widget-view+json": {
       "model_id": "bb12a648e1fa4d11893572085e10008c",
       "version_major": 2,
       "version_minor": 0
      },
      "text/plain": [
       "HBox(children=(FloatProgress(value=0.0, max=87.0), HTML(value='')))"
      ]
     },
     "metadata": {},
     "output_type": "display_data"
    },
    {
     "name": "stdout",
     "output_type": "stream",
     "text": [
      "\n",
      "task 40: compiling block group data from state #26\n"
     ]
    },
    {
     "data": {
      "application/vnd.jupyter.widget-view+json": {
       "model_id": "325e27421474464697c58c7c2e8105a7",
       "version_major": 2,
       "version_minor": 0
      },
      "text/plain": [
       "HBox(children=(FloatProgress(value=0.0, max=83.0), HTML(value='')))"
      ]
     },
     "metadata": {},
     "output_type": "display_data"
    },
    {
     "name": "stdout",
     "output_type": "stream",
     "text": [
      "\n",
      "task 41: compiling block group data from state #44\n"
     ]
    },
    {
     "data": {
      "application/vnd.jupyter.widget-view+json": {
       "model_id": "880fd61af7e349b3b7537338ac98fb3e",
       "version_major": 2,
       "version_minor": 0
      },
      "text/plain": [
       "HBox(children=(FloatProgress(value=0.0, max=5.0), HTML(value='')))"
      ]
     },
     "metadata": {},
     "output_type": "display_data"
    },
    {
     "name": "stdout",
     "output_type": "stream",
     "text": [
      "\n",
      "task 42: compiling block group data from state #20\n"
     ]
    },
    {
     "data": {
      "application/vnd.jupyter.widget-view+json": {
       "model_id": "fcf8b94bec4148d78b81a1c1e52c4917",
       "version_major": 2,
       "version_minor": 0
      },
      "text/plain": [
       "HBox(children=(FloatProgress(value=0.0, max=105.0), HTML(value='')))"
      ]
     },
     "metadata": {},
     "output_type": "display_data"
    },
    {
     "name": "stdout",
     "output_type": "stream",
     "text": [
      "\n",
      "task 43: compiling block group data from state #30\n"
     ]
    },
    {
     "data": {
      "application/vnd.jupyter.widget-view+json": {
       "model_id": "bcda129a75614ab2a0b4a2edbacab073",
       "version_major": 2,
       "version_minor": 0
      },
      "text/plain": [
       "HBox(children=(FloatProgress(value=0.0, max=56.0), HTML(value='')))"
      ]
     },
     "metadata": {},
     "output_type": "display_data"
    },
    {
     "name": "stdout",
     "output_type": "stream",
     "text": [
      "\n",
      "task 44: compiling block group data from state #28\n"
     ]
    },
    {
     "data": {
      "application/vnd.jupyter.widget-view+json": {
       "model_id": "3a8b682752194fe6ace2851919eb8f5c",
       "version_major": 2,
       "version_minor": 0
      },
      "text/plain": [
       "HBox(children=(FloatProgress(value=0.0, max=82.0), HTML(value='')))"
      ]
     },
     "metadata": {},
     "output_type": "display_data"
    },
    {
     "name": "stdout",
     "output_type": "stream",
     "text": [
      "\n",
      "task 45: compiling block group data from state #45\n"
     ]
    },
    {
     "data": {
      "application/vnd.jupyter.widget-view+json": {
       "model_id": "dadf422671c34fe3a86a77517fd5d182",
       "version_major": 2,
       "version_minor": 0
      },
      "text/plain": [
       "HBox(children=(FloatProgress(value=0.0, max=46.0), HTML(value='')))"
      ]
     },
     "metadata": {},
     "output_type": "display_data"
    },
    {
     "name": "stdout",
     "output_type": "stream",
     "text": [
      "\n",
      "task 46: compiling block group data from state #21\n"
     ]
    },
    {
     "data": {
      "application/vnd.jupyter.widget-view+json": {
       "model_id": "746488fc8515441bbec038df7bc3f5c5",
       "version_major": 2,
       "version_minor": 0
      },
      "text/plain": [
       "HBox(children=(FloatProgress(value=0.0, max=120.0), HTML(value='')))"
      ]
     },
     "metadata": {},
     "output_type": "display_data"
    },
    {
     "name": "stdout",
     "output_type": "stream",
     "text": [
      "\n",
      "task 47: compiling block group data from state #41\n"
     ]
    },
    {
     "data": {
      "application/vnd.jupyter.widget-view+json": {
       "model_id": "a90054d2c0e9496f9fc078e27f3342ec",
       "version_major": 2,
       "version_minor": 0
      },
      "text/plain": [
       "HBox(children=(FloatProgress(value=0.0, max=36.0), HTML(value='')))"
      ]
     },
     "metadata": {},
     "output_type": "display_data"
    },
    {
     "name": "stdout",
     "output_type": "stream",
     "text": [
      "\n",
      "task 48: compiling block group data from state #46\n"
     ]
    },
    {
     "data": {
      "application/vnd.jupyter.widget-view+json": {
       "model_id": "41d86807ad7647169f6ca6126c6cc6da",
       "version_major": 2,
       "version_minor": 0
      },
      "text/plain": [
       "HBox(children=(FloatProgress(value=0.0, max=66.0), HTML(value='')))"
      ]
     },
     "metadata": {},
     "output_type": "display_data"
    },
    {
     "name": "stdout",
     "output_type": "stream",
     "text": [
      "\n",
      "task 49: compiling block group data from state #08\n"
     ]
    },
    {
     "data": {
      "application/vnd.jupyter.widget-view+json": {
       "model_id": "62469006123f49d29e7f64062c76905c",
       "version_major": 2,
       "version_minor": 0
      },
      "text/plain": [
       "HBox(children=(FloatProgress(value=0.0, max=64.0), HTML(value='')))"
      ]
     },
     "metadata": {},
     "output_type": "display_data"
    },
    {
     "name": "stdout",
     "output_type": "stream",
     "text": [
      "\n",
      "task 50: compiling block group data from state #06\n"
     ]
    },
    {
     "data": {
      "application/vnd.jupyter.widget-view+json": {
       "model_id": "f3cc5defe6334fa7863ee09ff60d8ece",
       "version_major": 2,
       "version_minor": 0
      },
      "text/plain": [
       "HBox(children=(FloatProgress(value=0.0, max=58.0), HTML(value='')))"
      ]
     },
     "metadata": {},
     "output_type": "display_data"
    },
    {
     "name": "stdout",
     "output_type": "stream",
     "text": [
      "\n",
      "task 51: compiling block group data from state #48\n"
     ]
    },
    {
     "data": {
      "application/vnd.jupyter.widget-view+json": {
       "model_id": "c7c24cf93f074c0185ec10d55b132521",
       "version_major": 2,
       "version_minor": 0
      },
      "text/plain": [
       "HBox(children=(FloatProgress(value=0.0, max=254.0), HTML(value='')))"
      ]
     },
     "metadata": {},
     "output_type": "display_data"
    },
    {
     "name": "stdout",
     "output_type": "stream",
     "text": [
      "\n",
      "\n",
      "Wall time: 4h 12min 52s\n"
     ]
    },
    {
     "data": {
      "text/html": [
       "<div>\n",
       "<style scoped>\n",
       "    .dataframe tbody tr th:only-of-type {\n",
       "        vertical-align: middle;\n",
       "    }\n",
       "\n",
       "    .dataframe tbody tr th {\n",
       "        vertical-align: top;\n",
       "    }\n",
       "\n",
       "    .dataframe thead th {\n",
       "        text-align: right;\n",
       "    }\n",
       "</style>\n",
       "<table border=\"1\" class=\"dataframe\">\n",
       "  <thead>\n",
       "    <tr style=\"text-align: right;\">\n",
       "      <th></th>\n",
       "      <th>B19301_001E</th>\n",
       "      <th>B17021_001E</th>\n",
       "      <th>B17021_002E</th>\n",
       "      <th>B02001_001E</th>\n",
       "      <th>B02001_002E</th>\n",
       "      <th>B02001_003E</th>\n",
       "      <th>B02001_004E</th>\n",
       "      <th>B03002_001E</th>\n",
       "      <th>B03002_003E</th>\n",
       "      <th>B03002_012E</th>\n",
       "      <th>...</th>\n",
       "      <th>B25081_004E</th>\n",
       "      <th>B25081_005E</th>\n",
       "      <th>B25081_006E</th>\n",
       "      <th>B25081_008E</th>\n",
       "      <th>B22010_001E</th>\n",
       "      <th>B22010_002E</th>\n",
       "      <th>B22010_003E</th>\n",
       "      <th>B22010_006E</th>\n",
       "      <th>B25018_001E</th>\n",
       "      <th>B25035_001E</th>\n",
       "    </tr>\n",
       "  </thead>\n",
       "  <tbody>\n",
       "    <tr>\n",
       "      <th>Block Group 1, Census Tract 901.02, Kitsap County, Washington: Summary level: 150, state:53&gt; county:035&gt; tract:090102&gt; block group:1</th>\n",
       "      <td>38870.0</td>\n",
       "      <td>2655</td>\n",
       "      <td>226</td>\n",
       "      <td>2677</td>\n",
       "      <td>2280</td>\n",
       "      <td>0</td>\n",
       "      <td>11</td>\n",
       "      <td>2677</td>\n",
       "      <td>2247</td>\n",
       "      <td>101</td>\n",
       "      <td>...</td>\n",
       "      <td>17</td>\n",
       "      <td>76</td>\n",
       "      <td>0</td>\n",
       "      <td>191</td>\n",
       "      <td>1144</td>\n",
       "      <td>126</td>\n",
       "      <td>78</td>\n",
       "      <td>142</td>\n",
       "      <td>6.0</td>\n",
       "      <td>1991</td>\n",
       "    </tr>\n",
       "    <tr>\n",
       "      <th>Block Group 1, Census Tract 919, Kitsap County, Washington: Summary level: 150, state:53&gt; county:035&gt; tract:091900&gt; block group:1</th>\n",
       "      <td>26235.0</td>\n",
       "      <td>2419</td>\n",
       "      <td>265</td>\n",
       "      <td>2440</td>\n",
       "      <td>1481</td>\n",
       "      <td>168</td>\n",
       "      <td>28</td>\n",
       "      <td>2440</td>\n",
       "      <td>1328</td>\n",
       "      <td>205</td>\n",
       "      <td>...</td>\n",
       "      <td>0</td>\n",
       "      <td>8</td>\n",
       "      <td>8</td>\n",
       "      <td>185</td>\n",
       "      <td>896</td>\n",
       "      <td>98</td>\n",
       "      <td>86</td>\n",
       "      <td>273</td>\n",
       "      <td>6.0</td>\n",
       "      <td>1996</td>\n",
       "    </tr>\n",
       "    <tr>\n",
       "      <th>Block Group 2, Census Tract 919, Kitsap County, Washington: Summary level: 150, state:53&gt; county:035&gt; tract:091900&gt; block group:2</th>\n",
       "      <td>38522.0</td>\n",
       "      <td>705</td>\n",
       "      <td>49</td>\n",
       "      <td>705</td>\n",
       "      <td>542</td>\n",
       "      <td>0</td>\n",
       "      <td>0</td>\n",
       "      <td>705</td>\n",
       "      <td>542</td>\n",
       "      <td>16</td>\n",
       "      <td>...</td>\n",
       "      <td>5</td>\n",
       "      <td>0</td>\n",
       "      <td>0</td>\n",
       "      <td>137</td>\n",
       "      <td>341</td>\n",
       "      <td>10</td>\n",
       "      <td>0</td>\n",
       "      <td>170</td>\n",
       "      <td>5.8</td>\n",
       "      <td>1963</td>\n",
       "    </tr>\n",
       "    <tr>\n",
       "      <th>Block Group 2, Census Tract 811, Kitsap County, Washington: Summary level: 150, state:53&gt; county:035&gt; tract:081100&gt; block group:2</th>\n",
       "      <td>24710.0</td>\n",
       "      <td>1541</td>\n",
       "      <td>408</td>\n",
       "      <td>1635</td>\n",
       "      <td>1227</td>\n",
       "      <td>134</td>\n",
       "      <td>23</td>\n",
       "      <td>1635</td>\n",
       "      <td>1227</td>\n",
       "      <td>91</td>\n",
       "      <td>...</td>\n",
       "      <td>7</td>\n",
       "      <td>32</td>\n",
       "      <td>0</td>\n",
       "      <td>17</td>\n",
       "      <td>628</td>\n",
       "      <td>210</td>\n",
       "      <td>76</td>\n",
       "      <td>135</td>\n",
       "      <td>5.0</td>\n",
       "      <td>1945</td>\n",
       "    </tr>\n",
       "    <tr>\n",
       "      <th>Block Group 2, Census Tract 802, Kitsap County, Washington: Summary level: 150, state:53&gt; county:035&gt; tract:080200&gt; block group:2</th>\n",
       "      <td>18788.0</td>\n",
       "      <td>2029</td>\n",
       "      <td>572</td>\n",
       "      <td>2029</td>\n",
       "      <td>1371</td>\n",
       "      <td>162</td>\n",
       "      <td>14</td>\n",
       "      <td>2029</td>\n",
       "      <td>1341</td>\n",
       "      <td>187</td>\n",
       "      <td>...</td>\n",
       "      <td>0</td>\n",
       "      <td>8</td>\n",
       "      <td>0</td>\n",
       "      <td>74</td>\n",
       "      <td>866</td>\n",
       "      <td>366</td>\n",
       "      <td>216</td>\n",
       "      <td>208</td>\n",
       "      <td>4.4</td>\n",
       "      <td>1967</td>\n",
       "    </tr>\n",
       "  </tbody>\n",
       "</table>\n",
       "<p>5 rows × 195 columns</p>\n",
       "</div>"
      ],
      "text/plain": [
       "                                                    B19301_001E B17021_001E  \\\n",
       "Block Group 1, Census Tract 901.02, Kitsap Coun...      38870.0        2655   \n",
       "Block Group 1, Census Tract 919, Kitsap County,...      26235.0        2419   \n",
       "Block Group 2, Census Tract 919, Kitsap County,...      38522.0         705   \n",
       "Block Group 2, Census Tract 811, Kitsap County,...      24710.0        1541   \n",
       "Block Group 2, Census Tract 802, Kitsap County,...      18788.0        2029   \n",
       "\n",
       "                                                   B17021_002E  B02001_001E  \\\n",
       "Block Group 1, Census Tract 901.02, Kitsap Coun...         226         2677   \n",
       "Block Group 1, Census Tract 919, Kitsap County,...         265         2440   \n",
       "Block Group 2, Census Tract 919, Kitsap County,...          49          705   \n",
       "Block Group 2, Census Tract 811, Kitsap County,...         408         1635   \n",
       "Block Group 2, Census Tract 802, Kitsap County,...         572         2029   \n",
       "\n",
       "                                                    B02001_002E  B02001_003E  \\\n",
       "Block Group 1, Census Tract 901.02, Kitsap Coun...         2280            0   \n",
       "Block Group 1, Census Tract 919, Kitsap County,...         1481          168   \n",
       "Block Group 2, Census Tract 919, Kitsap County,...          542            0   \n",
       "Block Group 2, Census Tract 811, Kitsap County,...         1227          134   \n",
       "Block Group 2, Census Tract 802, Kitsap County,...         1371          162   \n",
       "\n",
       "                                                    B02001_004E  B03002_001E  \\\n",
       "Block Group 1, Census Tract 901.02, Kitsap Coun...           11         2677   \n",
       "Block Group 1, Census Tract 919, Kitsap County,...           28         2440   \n",
       "Block Group 2, Census Tract 919, Kitsap County,...            0          705   \n",
       "Block Group 2, Census Tract 811, Kitsap County,...           23         1635   \n",
       "Block Group 2, Census Tract 802, Kitsap County,...           14         2029   \n",
       "\n",
       "                                                    B03002_003E  B03002_012E  \\\n",
       "Block Group 1, Census Tract 901.02, Kitsap Coun...         2247          101   \n",
       "Block Group 1, Census Tract 919, Kitsap County,...         1328          205   \n",
       "Block Group 2, Census Tract 919, Kitsap County,...          542           16   \n",
       "Block Group 2, Census Tract 811, Kitsap County,...         1227           91   \n",
       "Block Group 2, Census Tract 802, Kitsap County,...         1341          187   \n",
       "\n",
       "                                                    ...  B25081_004E  \\\n",
       "Block Group 1, Census Tract 901.02, Kitsap Coun...  ...           17   \n",
       "Block Group 1, Census Tract 919, Kitsap County,...  ...            0   \n",
       "Block Group 2, Census Tract 919, Kitsap County,...  ...            5   \n",
       "Block Group 2, Census Tract 811, Kitsap County,...  ...            7   \n",
       "Block Group 2, Census Tract 802, Kitsap County,...  ...            0   \n",
       "\n",
       "                                                    B25081_005E  B25081_006E  \\\n",
       "Block Group 1, Census Tract 901.02, Kitsap Coun...           76            0   \n",
       "Block Group 1, Census Tract 919, Kitsap County,...            8            8   \n",
       "Block Group 2, Census Tract 919, Kitsap County,...            0            0   \n",
       "Block Group 2, Census Tract 811, Kitsap County,...           32            0   \n",
       "Block Group 2, Census Tract 802, Kitsap County,...            8            0   \n",
       "\n",
       "                                                    B25081_008E  B22010_001E  \\\n",
       "Block Group 1, Census Tract 901.02, Kitsap Coun...          191         1144   \n",
       "Block Group 1, Census Tract 919, Kitsap County,...          185          896   \n",
       "Block Group 2, Census Tract 919, Kitsap County,...          137          341   \n",
       "Block Group 2, Census Tract 811, Kitsap County,...           17          628   \n",
       "Block Group 2, Census Tract 802, Kitsap County,...           74          866   \n",
       "\n",
       "                                                    B22010_002E  B22010_003E  \\\n",
       "Block Group 1, Census Tract 901.02, Kitsap Coun...          126           78   \n",
       "Block Group 1, Census Tract 919, Kitsap County,...           98           86   \n",
       "Block Group 2, Census Tract 919, Kitsap County,...           10            0   \n",
       "Block Group 2, Census Tract 811, Kitsap County,...          210           76   \n",
       "Block Group 2, Census Tract 802, Kitsap County,...          366          216   \n",
       "\n",
       "                                                    B22010_006E  B25018_001E  \\\n",
       "Block Group 1, Census Tract 901.02, Kitsap Coun...          142          6.0   \n",
       "Block Group 1, Census Tract 919, Kitsap County,...          273          6.0   \n",
       "Block Group 2, Census Tract 919, Kitsap County,...          170          5.8   \n",
       "Block Group 2, Census Tract 811, Kitsap County,...          135          5.0   \n",
       "Block Group 2, Census Tract 802, Kitsap County,...          208          4.4   \n",
       "\n",
       "                                                    B25035_001E  \n",
       "Block Group 1, Census Tract 901.02, Kitsap Coun...         1991  \n",
       "Block Group 1, Census Tract 919, Kitsap County,...         1996  \n",
       "Block Group 2, Census Tract 919, Kitsap County,...         1963  \n",
       "Block Group 2, Census Tract 811, Kitsap County,...         1945  \n",
       "Block Group 2, Census Tract 802, Kitsap County,...         1967  \n",
       "\n",
       "[5 rows x 195 columns]"
      ]
     },
     "execution_count": 270,
     "metadata": {},
     "output_type": "execute_result"
    }
   ],
   "source": [
    "%%time\n",
    "# extract raw data for all states from Census API\n",
    "# 2 NOTES: \n",
    "# - 1) This requires an API key \n",
    "# - 2) This can take several hours\n",
    "\n",
    "year = 2018 # <-- this is the latest year available, but can be set to an earlier year\n",
    "\n",
    "counter = 1\n",
    "df = pd.DataFrame()\n",
    "for state in tqdm(all_states):\n",
    "    print(f\"task {counter}: compiling block group data from state #{state}\")\n",
    "    counties = [county[1].params()[1][1] for county in list(censusdata.geographies(censusdata.censusgeo([('state', state), ('county', '*')]), 'acs5', 2018, key=api_key).items())]\n",
    "    for county in tqdm(counties):\n",
    "        county_df = censusdata.download('acs5', year,\n",
    "                             censusdata.censusgeo([('state', state), ('county', county), ('block group', '*')]),\n",
    "                             variables_list, key=api_key)\n",
    "        df = df.append(county_df)\n",
    "    counter += 1\n",
    "df.head()"
   ]
  },
  {
   "cell_type": "code",
   "execution_count": 271,
   "metadata": {},
   "outputs": [],
   "source": [
    "# save rawoutput_loca\n",
    "df.to_csv(output_loc+ 'ACS_data_2018_raw.csv')"
   ]
  },
  {
   "cell_type": "markdown",
   "metadata": {},
   "source": [
    "### Step 4: Engineer and Format Features Using Raw Data"
   ]
  },
  {
   "cell_type": "code",
   "execution_count": 319,
   "metadata": {},
   "outputs": [],
   "source": [
    "# load raw data\n",
    "df = pd.read_csv(input_loc + 'data_2018_raw.csv')"
   ]
  },
  {
   "cell_type": "code",
   "execution_count": 322,
   "metadata": {},
   "outputs": [],
   "source": [
    "# extract non-empty data dictionary variable names and formulas\n",
    "data_formulas = data_dictionary.dropna(subset=['acs_variables_used','variable_name_in_dataset'])"
   ]
  },
  {
   "cell_type": "code",
   "execution_count": 323,
   "metadata": {},
   "outputs": [
    {
     "name": "stdout",
     "output_type": "stream",
     "text": [
      "--> this number: 310\n",
      "inc_pcincome ['B19301_001'] found only one variable\n",
      "tot_population  ['B17021_001'] found only one variable\n",
      "inc_pct_poverty ['B17021_002', 'B17021_001'] found only /\n",
      "race_pct_white  ['B02001_002', 'B02001_001'] found only /\n",
      "race_pct_black ['B02001_003', 'B02001_001'] found only /\n",
      "race_pct_amid ['B02001_004', 'B02001_001'] found only /\n",
      "race_pct_whitenh ['B03002_003', 'B03002_001'] found only /\n",
      "race_pct_hisp ['B03002_012', 'B03002_001'] found only /\n",
      "age_pct_under25 ['(sum(B01001_003-B01001_010)+sum(B01001_027-B01001_034))', 'B01001_001'] found +, sum, but no :\n",
      "age_pct_25_64 ['(sum(B01001_011-B01001_019)+sum(B01001_035-B01001_043))', 'B01001_001'] found +, sum, but no :\n",
      "age_pct_over65 ['(sum(B01001_020:B01001_025)+sum(B01001_044:B01001_049))', 'B01001_001'] found +, sum, and :\n",
      "sex_tot_pop ['B01001_001'] found only one variable\n",
      "pct_male  ['B01001_002', 'B01001_001'] found only /\n",
      "pct_female ['B01001_026', 'B01001_001'] found only /\n",
      "educ_tot_pop ['B15002_001'] found only one variable\n",
      "educ_no_school ['B15002_003+B15002_020', 'B15002_001'] found + but no sum\n",
      "educ_nursery_4th  ['B15002_004+B15002_021', 'B15002_001'] found + but no sum\n",
      "educ_5th_6th ['B15002_005+B15002_022', 'B15002_001'] found + but no sum\n",
      "educ_7th_8th ['B15002_006+B15002_023', 'B15002_001'] found + but no sum\n",
      "educ_9th ['B15002_007+B15002_024', 'B15002_001'] found + but no sum\n",
      "educ_10th ['B15002_008+B15002_025', 'B15002_001'] found + but no sum\n",
      "educ_11th ['B15002_009+B15002_026', 'B15002_001'] found + but no sum\n",
      "educ_12th_no_diploma ['B15002_010+B15002_027', 'B15002_001'] found + but no sum\n",
      "educ_high_school_grad ['B15002_011+B15002_028', 'B15002_001'] found + but no sum\n",
      "educ_col_less_1_yr ['B15002_012+B15002_029', 'B15002_001'] found + but no sum\n",
      "educ_some_col_no_grad ['B15002_013+B15002_030', 'B15002_001'] found + but no sum\n",
      "educ_associates ['B15002_014+B15002_031', 'B15002_001'] found + but no sum\n",
      "educ_bachelors ['B15002_015+B15002_032', 'B15002_001'] found + but no sum\n",
      "educ_masters ['B15002_016+B15002_033', 'B15002_001'] found + but no sum\n",
      "educ_professional ['B15002_017+B15002_034', 'B15002_001'] found + but no sum\n",
      "educ_docterate ['B15002_018+B15002_035', 'B15002_001'] found + but no sum\n",
      "total_pop_16_plus ['B23027_001'] found only one variable\n",
      "worked_past_12_mo ['sum(B23027_003,B23027_008,B23027_013,B23027_018,B23027_023,B23027_028,B23027_033)', 'B23027_001'] found sum but no +\n",
      "did_not_work_past_12_mo ['sum(B23027_006,B23027_011,B23027_016,B23027_021,B23027_026,B23027_031,B23027_036)', 'B23027_001'] found sum but no +\n",
      "house_tot_occ_cnt ['B11001_001'] found only one variable\n",
      "house_pct_family ['B11001_002', 'B11001_001'] found only /\n",
      "house_pct_family_married ['B11001_003', 'B11001_001'] found only /\n",
      "house_pct_family_male_hh ['B11001_005', 'B11001_001'] found only /\n",
      "house_pct_family_female_hh ['B11001_006', 'B11001_001'] found only /\n",
      "house_pct_non_family ['B11001_007', 'B11001_001'] found only /\n",
      "house_pct_live_alone ['B11001_008', 'B11001_001'] found only /\n",
      "house_pct_no_live_alone ['B11001_009', 'B11001_001'] found only /\n",
      "total_housing_units ['B25002_001'] found only one variable\n",
      "house_pct_occupied ['B25002_002', 'B25002_001'] found only /\n",
      "house_pct_vacant ['B25002_003', 'B25002_001'] found only /\n",
      "house_pct_ownd_occupied ['B25003_002', 'B25003_001'] found only /\n",
      "house_pct_rent_occupied ['B25003_003', 'B25003_001'] found only /\n",
      "house_pct_1_room ['B25017_002', 'B25017_001'] found only /\n",
      "house_pct_2_room ['B25017_003', 'B25017_001'] found only /\n",
      "house_pct_3_room ['B25017_004', 'B25017_001'] found only /\n",
      "house_pct_4_room ['B25017_005', 'B25017_001'] found only /\n",
      "house_pct_5_room ['B25017_006', 'B25017_001'] found only /\n",
      "house_pct_6_room ['B25017_007', 'B25017_001'] found only /\n",
      "house_pct_7_room ['B25017_008', 'B25017_001'] found only /\n",
      "house_pct_8_room ['B25017_009', 'B25017_001'] found only /\n",
      "house_pct_9_plus_room ['B25017_010', 'B25017_001'] found only /\n",
      "house_yr_pct_2014_plus ['B25034_002', 'B25034_001'] found only /\n",
      "house_yr_pct_2010_2013 ['B25034_003', 'B25034_001'] found only /\n",
      "house_yr_pct_2000_2009 ['B25034_004', 'B25034_001'] found only /\n",
      "house_yr_pct_1990_1999 ['B25034_005', 'B25034_001'] found only /\n",
      "house_yr_pct_1980_1989 ['B25034_006', 'B25034_001'] found only /\n",
      "house_yr_pct_1970_1979 ['B25034_007', 'B25034_001'] found only /\n",
      "house_yr_pct_1960_1969 ['B25034_008', 'B25034_001'] found only /\n",
      "house_yr_pct_1950_1959 ['B25034_009', 'B25034_001'] found only /\n",
      "house_yr_pct_1940_1949 ['B25034_010', 'B25034_001'] found only /\n",
      "house_yr_pct_earlier_1939 ['B25034_011', 'B25034_001'] found only /\n",
      "heat_pct_utility_gas ['B25040_002', 'B25040_001'] found only /\n",
      "heat_pct_bottled_tank_lpgas ['B25040_003', 'B25040_001'] found only /\n",
      "heat_pct_electricity ['B25040_004', 'B25040_001'] found only /\n",
      "heat_pct_fueloil_kerosene ['B25040_005', 'B25040_001'] found only /\n",
      "heat_pct_coal ['B25040_006', 'B25040_001'] found only /\n",
      "heat_pct_wood ['B25040_007', 'B25040_001'] found only /\n",
      "heat_pct_solar ['B25040_008', 'B25040_001'] found only /\n",
      "heat_pct_other ['B25040_009', 'B25040_001'] found only /\n",
      "heat_pct_no_fuel ['B25040_010', 'B25040_001'] found only /\n",
      "house_pct_complete_plumb ['B25047_002', 'B25047_001'] found only /\n",
      "house_pct_incomplete_plumb ['B25047_003', 'B25047_001'] found only /\n",
      "house_val_less_10K ['B25075_002', 'B25075_001'] found only /\n",
      "house_val_10K_15K ['B25075_003', 'B25075_001'] found only /\n",
      "house_val_15K_20K ['B25075_004', 'B25075_001'] found only /\n",
      "house_val_20K_25K ['B25075_005', 'B25075_001'] found only /\n",
      "house_val_25K_30K ['B25075_006', 'B25075_001'] found only /\n",
      "house_val_30K_35K ['B25075_007', 'B25075_001'] found only /\n",
      "house_val_35K_40K ['B25075_008', 'B25075_001'] found only /\n",
      "house_val_40K_50K ['B25075_009', 'B25075_001'] found only /\n",
      "house_val_50K_60K ['B25075_010', 'B25075_001'] found only /\n",
      "house_val_60K_70K ['B25075_011', 'B25075_001'] found only /\n",
      "house_val_70K_80K ['B25075_012', 'B25075_001'] found only /\n",
      "house_val_80K_90K ['B25075_013', 'B25075_001'] found only /\n",
      "house_val_90K_100K ['B25075_014', 'B25075_001'] found only /\n",
      "house_val_100K_125K ['B25075_015', 'B25075_001'] found only /\n",
      "house_val_125K_150K ['B25075_016', 'B25075_001'] found only /\n",
      "house_val_150K_175K ['B25075_017', 'B25075_001'] found only /\n",
      "house_val_175K_200K ['B25075_018', 'B25075_001'] found only /\n",
      "house_val_200K_250K ['B25075_019', 'B25075_001'] found only /\n",
      "house_val_250K_300K ['B25075_020', 'B25075_001'] found only /\n",
      "house_val_300K_400K ['B25075_021', 'B25075_001'] found only /\n",
      "house_val_400K_500K ['B25075_022', 'B25075_001'] found only /\n",
      "house_val_500K_750K ['B25075_023', 'B25075_001'] found only /\n",
      "house_val_750K_1M ['B25075_024', 'B25075_001'] found only /\n",
      "house_val_1M_1.5M ['B25075_025', 'B25075_001'] found only /\n",
      "house_val_1.5M_2M ['B25075_026', 'B25075_001'] found only /\n",
      "house_val_more_2M ['B25075_027', 'B25075_001'] found only /\n",
      "house_tot_w_mort ['B25081_002', 'B25081_001'] found only /\n",
      "house_w_1_mort ['B25081_007', 'B25081_001'] found only /\n",
      "house_w_2_mort ['B25081_004', 'B25081_001'] found only /\n",
      "house_w_home_equity_loan ['B25081_005', 'B25081_001'] found only /\n",
      "house_w_both_2_mort_and_loan ['B25081_006', 'B25081_001'] found only /\n",
      "house_no_mort ['B25081_008', 'B25081_001'] found only /\n",
      "total_households  ['B22010_001'] found only one variable\n",
      "pct_snap_past_12mo ['B22010_002', 'B22010_001'] found only /\n",
      "pct_disability  ['(B22010_003+B22010_006)', 'B22010_001'] found + but no sum\n",
      "median_room_num  ['B25018_001'] found only one variable\n",
      "median_year_built ['B25035_001'] found only one variable\n",
      "--> should match this number: 310\n"
     ]
    }
   ],
   "source": [
    "# feature engineer raw data \n",
    "print(f\"--> this number: {df.shape[1] + data_formulas.shape[0]}\")\n",
    "for name, var in zip(data_formulas.variable_name_in_dataset,\n",
    "                     data_formulas.calculated_.apply(lambda x: x.replace(\" \", \"\").split('/'))): # splits formulas up by '/' sign to extract numerator (var[0]) and denominator(var[1])\n",
    "    if len(var) == 1: # i.e. no engineering needed, just renaming\n",
    "        print(name, var, \"found only one variable\")\n",
    "        df[name] = df[var[0] + 'E']\n",
    "    else:\n",
    "        if var[0].find('+') != -1 and var[0].find('sum') == -1: # found + but no sum in the numerator\n",
    "            print(name, var, \"found + but no sum\")\n",
    "            numerator = var[0].replace(\"(\",\"\").replace(\")\", \"\").split('+')\n",
    "            try:\n",
    "                df[name] = (df[numerator[0] + 'E'] + df[numerator[1] + 'E'])/df[var[1] + 'E']\n",
    "            except ZeroDivisionError as err:\n",
    "                df[name] = 0\n",
    "        elif var[0].find('+') != -1 and var[0].find('sum') != -1 and var[0].find(':') == -1: # found +, sum, but no : in the numerator\n",
    "            print(name, var, \"found +, sum, but no :\")\n",
    "            df[name] = sum_extract_divide(var)\n",
    "        elif var[0].find('+') != -1 and var[0].find('sum') != -1 and var[0].find(':') != -1: # found +, sum, and : in the numerator\n",
    "            print(name, var, \"found +, sum, and :\")\n",
    "            df[name] = sum_extract_divide(var, splitter=':')\n",
    "        elif var[0].find('+') == -1 and var[0].find('sum') != -1 and var[0].find(':') == -1: # found sum but no + in the numerator\n",
    "            print(name, var, \"found sum but no +\")\n",
    "            add_list = [x +'E' for x in var[0].replace('sum(', '').replace(')', '').split(',')]\n",
    "            total = df[add_list].sum(axis=1)\n",
    "            try:\n",
    "                df[name] = total/df[var[1]+'E']\n",
    "            except ZeroDivisionError as err:\n",
    "                df[name] = 0\n",
    "        else: # found only / in the numerator\n",
    "            print(name, var, \"found only /\")\n",
    "            try:\n",
    "                df[name] = df[var[0] + 'E']/df[var[1] + 'E']\n",
    "            except ZeroDivisionError as err:\n",
    "                df[name] = 0\n",
    "print(f\"--> should match this number: {df.shape[1]}\")"
   ]
  },
  {
   "cell_type": "code",
   "execution_count": 324,
   "metadata": {},
   "outputs": [],
   "source": [
    "# drop unused raw columns\n",
    "formatted_df = pd.concat([df.iloc[:, 0],df.iloc[:, -data_formulas.shape[0]:]], axis=1)"
   ]
  },
  {
   "cell_type": "code",
   "execution_count": 325,
   "metadata": {},
   "outputs": [],
   "source": [
    "# standardize column names\n",
    "formatted_df = standardize_col_names(formatted_df)"
   ]
  },
  {
   "cell_type": "code",
   "execution_count": 326,
   "metadata": {},
   "outputs": [],
   "source": [
    "# create geoid column\n",
    "formatted_df.unnamed__0 = formatted_df.unnamed__0.apply(lambda x: x.replace(',', '').replace(':', '').replace('.', '').replace('>', ''))\n",
    "formatted_df['geoid'] = formatted_df.unnamed__0.apply(lambda x:'#_' + ''.join(re.findall(r'\\d+', x)[-4:])) #transform description into #_geoid"
   ]
  },
  {
   "cell_type": "code",
   "execution_count": 327,
   "metadata": {},
   "outputs": [],
   "source": [
    "# reorder columns\n",
    "cols = list(formatted_df.columns)\n",
    "cols = [cols[-1]] + cols[:-1]\n",
    "formatted_df = formatted_df[cols]"
   ]
  },
  {
   "cell_type": "code",
   "execution_count": 328,
   "metadata": {},
   "outputs": [
    {
     "data": {
      "text/html": [
       "<div>\n",
       "<style scoped>\n",
       "    .dataframe tbody tr th:only-of-type {\n",
       "        vertical-align: middle;\n",
       "    }\n",
       "\n",
       "    .dataframe tbody tr th {\n",
       "        vertical-align: top;\n",
       "    }\n",
       "\n",
       "    .dataframe thead th {\n",
       "        text-align: right;\n",
       "    }\n",
       "</style>\n",
       "<table border=\"1\" class=\"dataframe\">\n",
       "  <thead>\n",
       "    <tr style=\"text-align: right;\">\n",
       "      <th></th>\n",
       "      <th>geoid</th>\n",
       "      <th>unnamed__0</th>\n",
       "      <th>inc_pcincome</th>\n",
       "      <th>tot_population</th>\n",
       "      <th>inc_pct_poverty</th>\n",
       "      <th>race_pct_white</th>\n",
       "      <th>race_pct_black</th>\n",
       "      <th>race_pct_amid</th>\n",
       "      <th>race_pct_whitenh</th>\n",
       "      <th>race_pct_hisp</th>\n",
       "      <th>...</th>\n",
       "      <th>house_w_1_mort</th>\n",
       "      <th>house_w_2_mort</th>\n",
       "      <th>house_w_home_equity_loan</th>\n",
       "      <th>house_w_both_2_mort_and_loan</th>\n",
       "      <th>house_no_mort</th>\n",
       "      <th>total_households</th>\n",
       "      <th>pct_snap_past_12mo</th>\n",
       "      <th>pct_disability</th>\n",
       "      <th>median_room_num</th>\n",
       "      <th>median_year_built</th>\n",
       "    </tr>\n",
       "  </thead>\n",
       "  <tbody>\n",
       "    <tr>\n",
       "      <th>0</th>\n",
       "      <td>#_530350901021</td>\n",
       "      <td>Block Group 1 Census Tract 90102 Kitsap County...</td>\n",
       "      <td>38870.0</td>\n",
       "      <td>2655.0</td>\n",
       "      <td>0.085122</td>\n",
       "      <td>0.851700</td>\n",
       "      <td>0.000000</td>\n",
       "      <td>0.004109</td>\n",
       "      <td>0.839372</td>\n",
       "      <td>0.037729</td>\n",
       "      <td>...</td>\n",
       "      <td>0.610425</td>\n",
       "      <td>0.023320</td>\n",
       "      <td>0.104252</td>\n",
       "      <td>0.000000</td>\n",
       "      <td>0.262003</td>\n",
       "      <td>1144</td>\n",
       "      <td>0.110140</td>\n",
       "      <td>0.192308</td>\n",
       "      <td>6.0</td>\n",
       "      <td>1991</td>\n",
       "    </tr>\n",
       "    <tr>\n",
       "      <th>1</th>\n",
       "      <td>#_530350919001</td>\n",
       "      <td>Block Group 1 Census Tract 919 Kitsap County W...</td>\n",
       "      <td>26235.0</td>\n",
       "      <td>2419.0</td>\n",
       "      <td>0.109549</td>\n",
       "      <td>0.606967</td>\n",
       "      <td>0.068852</td>\n",
       "      <td>0.011475</td>\n",
       "      <td>0.544262</td>\n",
       "      <td>0.084016</td>\n",
       "      <td>...</td>\n",
       "      <td>0.622180</td>\n",
       "      <td>0.000000</td>\n",
       "      <td>0.015038</td>\n",
       "      <td>0.015038</td>\n",
       "      <td>0.347744</td>\n",
       "      <td>896</td>\n",
       "      <td>0.109375</td>\n",
       "      <td>0.400670</td>\n",
       "      <td>6.0</td>\n",
       "      <td>1996</td>\n",
       "    </tr>\n",
       "    <tr>\n",
       "      <th>2</th>\n",
       "      <td>#_530350919002</td>\n",
       "      <td>Block Group 2 Census Tract 919 Kitsap County W...</td>\n",
       "      <td>38522.0</td>\n",
       "      <td>705.0</td>\n",
       "      <td>0.069504</td>\n",
       "      <td>0.768794</td>\n",
       "      <td>0.000000</td>\n",
       "      <td>0.000000</td>\n",
       "      <td>0.768794</td>\n",
       "      <td>0.022695</td>\n",
       "      <td>...</td>\n",
       "      <td>0.534426</td>\n",
       "      <td>0.016393</td>\n",
       "      <td>0.000000</td>\n",
       "      <td>0.000000</td>\n",
       "      <td>0.449180</td>\n",
       "      <td>341</td>\n",
       "      <td>0.029326</td>\n",
       "      <td>0.498534</td>\n",
       "      <td>5.8</td>\n",
       "      <td>1963</td>\n",
       "    </tr>\n",
       "    <tr>\n",
       "      <th>3</th>\n",
       "      <td>#_530350811002</td>\n",
       "      <td>Block Group 2 Census Tract 811 Kitsap County W...</td>\n",
       "      <td>24710.0</td>\n",
       "      <td>1541.0</td>\n",
       "      <td>0.264763</td>\n",
       "      <td>0.750459</td>\n",
       "      <td>0.081957</td>\n",
       "      <td>0.014067</td>\n",
       "      <td>0.750459</td>\n",
       "      <td>0.055657</td>\n",
       "      <td>...</td>\n",
       "      <td>0.791822</td>\n",
       "      <td>0.026022</td>\n",
       "      <td>0.118959</td>\n",
       "      <td>0.000000</td>\n",
       "      <td>0.063197</td>\n",
       "      <td>628</td>\n",
       "      <td>0.334395</td>\n",
       "      <td>0.335987</td>\n",
       "      <td>5.0</td>\n",
       "      <td>1945</td>\n",
       "    </tr>\n",
       "    <tr>\n",
       "      <th>4</th>\n",
       "      <td>#_530350802002</td>\n",
       "      <td>Block Group 2 Census Tract 802 Kitsap County W...</td>\n",
       "      <td>18788.0</td>\n",
       "      <td>2029.0</td>\n",
       "      <td>0.281912</td>\n",
       "      <td>0.675702</td>\n",
       "      <td>0.079842</td>\n",
       "      <td>0.006900</td>\n",
       "      <td>0.660917</td>\n",
       "      <td>0.092164</td>\n",
       "      <td>...</td>\n",
       "      <td>0.670683</td>\n",
       "      <td>0.000000</td>\n",
       "      <td>0.032129</td>\n",
       "      <td>0.000000</td>\n",
       "      <td>0.297189</td>\n",
       "      <td>866</td>\n",
       "      <td>0.422633</td>\n",
       "      <td>0.489607</td>\n",
       "      <td>4.4</td>\n",
       "      <td>1967</td>\n",
       "    </tr>\n",
       "    <tr>\n",
       "      <th>...</th>\n",
       "      <td>...</td>\n",
       "      <td>...</td>\n",
       "      <td>...</td>\n",
       "      <td>...</td>\n",
       "      <td>...</td>\n",
       "      <td>...</td>\n",
       "      <td>...</td>\n",
       "      <td>...</td>\n",
       "      <td>...</td>\n",
       "      <td>...</td>\n",
       "      <td>...</td>\n",
       "      <td>...</td>\n",
       "      <td>...</td>\n",
       "      <td>...</td>\n",
       "      <td>...</td>\n",
       "      <td>...</td>\n",
       "      <td>...</td>\n",
       "      <td>...</td>\n",
       "      <td>...</td>\n",
       "      <td>...</td>\n",
       "      <td>...</td>\n",
       "    </tr>\n",
       "    <tr>\n",
       "      <th>217734</th>\n",
       "      <td>#_481450007001</td>\n",
       "      <td>Block Group 1 Census Tract 7 Falls County Texa...</td>\n",
       "      <td>26364.0</td>\n",
       "      <td>1421.0</td>\n",
       "      <td>0.139338</td>\n",
       "      <td>0.901478</td>\n",
       "      <td>0.098522</td>\n",
       "      <td>0.000000</td>\n",
       "      <td>0.843068</td>\n",
       "      <td>0.058410</td>\n",
       "      <td>...</td>\n",
       "      <td>0.338863</td>\n",
       "      <td>0.000000</td>\n",
       "      <td>0.000000</td>\n",
       "      <td>0.000000</td>\n",
       "      <td>0.661137</td>\n",
       "      <td>476</td>\n",
       "      <td>0.058824</td>\n",
       "      <td>0.445378</td>\n",
       "      <td>5.4</td>\n",
       "      <td>1979</td>\n",
       "    </tr>\n",
       "    <tr>\n",
       "      <th>217735</th>\n",
       "      <td>#_481450007002</td>\n",
       "      <td>Block Group 2 Census Tract 7 Falls County Texa...</td>\n",
       "      <td>19821.0</td>\n",
       "      <td>1348.0</td>\n",
       "      <td>0.300445</td>\n",
       "      <td>0.869472</td>\n",
       "      <td>0.114836</td>\n",
       "      <td>0.000000</td>\n",
       "      <td>0.532097</td>\n",
       "      <td>0.352354</td>\n",
       "      <td>...</td>\n",
       "      <td>0.266667</td>\n",
       "      <td>0.027451</td>\n",
       "      <td>0.031373</td>\n",
       "      <td>0.000000</td>\n",
       "      <td>0.674510</td>\n",
       "      <td>377</td>\n",
       "      <td>0.238727</td>\n",
       "      <td>0.408488</td>\n",
       "      <td>5.1</td>\n",
       "      <td>1965</td>\n",
       "    </tr>\n",
       "    <tr>\n",
       "      <th>217736</th>\n",
       "      <td>#_481450008001</td>\n",
       "      <td>Block Group 1 Census Tract 8 Falls County Texa...</td>\n",
       "      <td>21012.0</td>\n",
       "      <td>830.0</td>\n",
       "      <td>0.100000</td>\n",
       "      <td>0.843862</td>\n",
       "      <td>0.033373</td>\n",
       "      <td>0.000000</td>\n",
       "      <td>0.692491</td>\n",
       "      <td>0.274136</td>\n",
       "      <td>...</td>\n",
       "      <td>0.194805</td>\n",
       "      <td>0.000000</td>\n",
       "      <td>0.000000</td>\n",
       "      <td>0.000000</td>\n",
       "      <td>0.805195</td>\n",
       "      <td>248</td>\n",
       "      <td>0.024194</td>\n",
       "      <td>0.322581</td>\n",
       "      <td>5.2</td>\n",
       "      <td>1962</td>\n",
       "    </tr>\n",
       "    <tr>\n",
       "      <th>217737</th>\n",
       "      <td>#_481450008002</td>\n",
       "      <td>Block Group 2 Census Tract 8 Falls County Texa...</td>\n",
       "      <td>11636.0</td>\n",
       "      <td>1547.0</td>\n",
       "      <td>0.311571</td>\n",
       "      <td>0.558356</td>\n",
       "      <td>0.417604</td>\n",
       "      <td>0.007367</td>\n",
       "      <td>0.412951</td>\n",
       "      <td>0.156262</td>\n",
       "      <td>...</td>\n",
       "      <td>0.430636</td>\n",
       "      <td>0.000000</td>\n",
       "      <td>0.000000</td>\n",
       "      <td>0.000000</td>\n",
       "      <td>0.569364</td>\n",
       "      <td>479</td>\n",
       "      <td>0.240084</td>\n",
       "      <td>0.471816</td>\n",
       "      <td>5.5</td>\n",
       "      <td>1975</td>\n",
       "    </tr>\n",
       "    <tr>\n",
       "      <th>217738</th>\n",
       "      <td>#_481450008003</td>\n",
       "      <td>Block Group 3 Census Tract 8 Falls County Texa...</td>\n",
       "      <td>33655.0</td>\n",
       "      <td>557.0</td>\n",
       "      <td>0.032316</td>\n",
       "      <td>0.905498</td>\n",
       "      <td>0.082474</td>\n",
       "      <td>0.012027</td>\n",
       "      <td>0.865979</td>\n",
       "      <td>0.039519</td>\n",
       "      <td>...</td>\n",
       "      <td>0.263959</td>\n",
       "      <td>0.000000</td>\n",
       "      <td>0.000000</td>\n",
       "      <td>0.000000</td>\n",
       "      <td>0.736041</td>\n",
       "      <td>228</td>\n",
       "      <td>0.078947</td>\n",
       "      <td>0.513158</td>\n",
       "      <td>5.0</td>\n",
       "      <td>1971</td>\n",
       "    </tr>\n",
       "  </tbody>\n",
       "</table>\n",
       "<p>217739 rows × 116 columns</p>\n",
       "</div>"
      ],
      "text/plain": [
       "                 geoid                                         unnamed__0  \\\n",
       "0       #_530350901021  Block Group 1 Census Tract 90102 Kitsap County...   \n",
       "1       #_530350919001  Block Group 1 Census Tract 919 Kitsap County W...   \n",
       "2       #_530350919002  Block Group 2 Census Tract 919 Kitsap County W...   \n",
       "3       #_530350811002  Block Group 2 Census Tract 811 Kitsap County W...   \n",
       "4       #_530350802002  Block Group 2 Census Tract 802 Kitsap County W...   \n",
       "...                ...                                                ...   \n",
       "217734  #_481450007001  Block Group 1 Census Tract 7 Falls County Texa...   \n",
       "217735  #_481450007002  Block Group 2 Census Tract 7 Falls County Texa...   \n",
       "217736  #_481450008001  Block Group 1 Census Tract 8 Falls County Texa...   \n",
       "217737  #_481450008002  Block Group 2 Census Tract 8 Falls County Texa...   \n",
       "217738  #_481450008003  Block Group 3 Census Tract 8 Falls County Texa...   \n",
       "\n",
       "        inc_pcincome  tot_population  inc_pct_poverty  race_pct_white  \\\n",
       "0            38870.0          2655.0         0.085122        0.851700   \n",
       "1            26235.0          2419.0         0.109549        0.606967   \n",
       "2            38522.0           705.0         0.069504        0.768794   \n",
       "3            24710.0          1541.0         0.264763        0.750459   \n",
       "4            18788.0          2029.0         0.281912        0.675702   \n",
       "...              ...             ...              ...             ...   \n",
       "217734       26364.0          1421.0         0.139338        0.901478   \n",
       "217735       19821.0          1348.0         0.300445        0.869472   \n",
       "217736       21012.0           830.0         0.100000        0.843862   \n",
       "217737       11636.0          1547.0         0.311571        0.558356   \n",
       "217738       33655.0           557.0         0.032316        0.905498   \n",
       "\n",
       "        race_pct_black  race_pct_amid  race_pct_whitenh  race_pct_hisp  ...  \\\n",
       "0             0.000000       0.004109          0.839372       0.037729  ...   \n",
       "1             0.068852       0.011475          0.544262       0.084016  ...   \n",
       "2             0.000000       0.000000          0.768794       0.022695  ...   \n",
       "3             0.081957       0.014067          0.750459       0.055657  ...   \n",
       "4             0.079842       0.006900          0.660917       0.092164  ...   \n",
       "...                ...            ...               ...            ...  ...   \n",
       "217734        0.098522       0.000000          0.843068       0.058410  ...   \n",
       "217735        0.114836       0.000000          0.532097       0.352354  ...   \n",
       "217736        0.033373       0.000000          0.692491       0.274136  ...   \n",
       "217737        0.417604       0.007367          0.412951       0.156262  ...   \n",
       "217738        0.082474       0.012027          0.865979       0.039519  ...   \n",
       "\n",
       "       house_w_1_mort house_w_2_mort house_w_home_equity_loan  \\\n",
       "0            0.610425       0.023320                 0.104252   \n",
       "1            0.622180       0.000000                 0.015038   \n",
       "2            0.534426       0.016393                 0.000000   \n",
       "3            0.791822       0.026022                 0.118959   \n",
       "4            0.670683       0.000000                 0.032129   \n",
       "...               ...            ...                      ...   \n",
       "217734       0.338863       0.000000                 0.000000   \n",
       "217735       0.266667       0.027451                 0.031373   \n",
       "217736       0.194805       0.000000                 0.000000   \n",
       "217737       0.430636       0.000000                 0.000000   \n",
       "217738       0.263959       0.000000                 0.000000   \n",
       "\n",
       "        house_w_both_2_mort_and_loan  house_no_mort  total_households  \\\n",
       "0                           0.000000       0.262003              1144   \n",
       "1                           0.015038       0.347744               896   \n",
       "2                           0.000000       0.449180               341   \n",
       "3                           0.000000       0.063197               628   \n",
       "4                           0.000000       0.297189               866   \n",
       "...                              ...            ...               ...   \n",
       "217734                      0.000000       0.661137               476   \n",
       "217735                      0.000000       0.674510               377   \n",
       "217736                      0.000000       0.805195               248   \n",
       "217737                      0.000000       0.569364               479   \n",
       "217738                      0.000000       0.736041               228   \n",
       "\n",
       "        pct_snap_past_12mo  pct_disability  median_room_num  median_year_built  \n",
       "0                 0.110140        0.192308              6.0               1991  \n",
       "1                 0.109375        0.400670              6.0               1996  \n",
       "2                 0.029326        0.498534              5.8               1963  \n",
       "3                 0.334395        0.335987              5.0               1945  \n",
       "4                 0.422633        0.489607              4.4               1967  \n",
       "...                    ...             ...              ...                ...  \n",
       "217734            0.058824        0.445378              5.4               1979  \n",
       "217735            0.238727        0.408488              5.1               1965  \n",
       "217736            0.024194        0.322581              5.2               1962  \n",
       "217737            0.240084        0.471816              5.5               1975  \n",
       "217738            0.078947        0.513158              5.0               1971  \n",
       "\n",
       "[217739 rows x 116 columns]"
      ]
     },
     "execution_count": 328,
     "metadata": {},
     "output_type": "execute_result"
    }
   ],
   "source": [
    "# confirm formatting\n",
    "formatted_df"
   ]
  },
  {
   "cell_type": "code",
   "execution_count": 330,
   "metadata": {},
   "outputs": [],
   "source": [
    "# save formatted dataframe to csv\n",
    "formatted_df.to_csv(output_loc + \"ACS_data_2018_formatted.csv\")"
   ]
  },
  {
   "cell_type": "markdown",
   "metadata": {},
   "source": [
    "#### Raw Data Removal\n",
    "CAUTION: It will require rerunning a multi-hour fetch command (\"Step 3\") to restore the raw data. Only do this if you are certain."
   ]
  },
  {
   "cell_type": "code",
   "execution_count": 331,
   "metadata": {},
   "outputs": [
    {
     "name": "stdout",
     "output_type": "stream",
     "text": [
      "data_2018_raw.csv was removed!\n"
     ]
    }
   ],
   "source": [
    "# CAUTION!!!! THIS REMOVES raw data csv to save space\n",
    "os.remove(output_loc + \"ACS_data_2018_raw.csv\")\n",
    "print(\"ACS_data_2018_raw.csv was removed!\")"
   ]
  },
  {
   "cell_type": "markdown",
   "metadata": {},
   "source": [
    "#### Complete\n",
    "\n",
    "A formatted csv of data dictionary variables for all block groups in the USA should be saved in the output folder"
   ]
  },
  {
   "cell_type": "markdown",
   "metadata": {},
   "source": [
    "### Appendix A - EXTRA FEATURE: Variable Key Search Using `censusdata` Package:"
   ]
  },
  {
   "cell_type": "code",
   "execution_count": 301,
   "metadata": {},
   "outputs": [],
   "source": [
    "# keywords to search for target variables\n",
    "key_words = ['rural', 'urban', 'total population', 'density', 'poverty', 'income', 'labor', 'employment']"
   ]
  },
  {
   "cell_type": "code",
   "execution_count": 302,
   "metadata": {},
   "outputs": [
    {
     "name": "stdout",
     "output_type": "stream",
     "text": [
      "rural\n"
     ]
    },
    {
     "data": {
      "text/plain": [
       "[]"
      ]
     },
     "metadata": {},
     "output_type": "display_data"
    },
    {
     "name": "stdout",
     "output_type": "stream",
     "text": [
      "urban\n"
     ]
    },
    {
     "data": {
      "text/plain": [
       "[]"
      ]
     },
     "metadata": {},
     "output_type": "display_data"
    },
    {
     "name": "stdout",
     "output_type": "stream",
     "text": [
      "total population\n"
     ]
    },
    {
     "data": {
      "text/plain": [
       "[('B01003_001E', 'TOTAL POPULATION', 'Estimate!!Total'),\n",
       " ('B25008_001E',\n",
       "  'TOTAL POPULATION IN OCCUPIED HOUSING UNITS BY TENURE',\n",
       "  'Estimate!!Total'),\n",
       " ('B25008_002E',\n",
       "  'TOTAL POPULATION IN OCCUPIED HOUSING UNITS BY TENURE',\n",
       "  'Estimate!!Total!!Owner occupied'),\n",
       " ('B25008_003E',\n",
       "  'TOTAL POPULATION IN OCCUPIED HOUSING UNITS BY TENURE',\n",
       "  'Estimate!!Total!!Renter occupied'),\n",
       " ('B25026_001E',\n",
       "  'TOTAL POPULATION IN OCCUPIED HOUSING UNITS BY TENURE BY YEAR HOUSEHOLDER MOVED INTO UNIT',\n",
       "  'Estimate!!Total population in occupied housing units'),\n",
       " ('B25026_002E',\n",
       "  'TOTAL POPULATION IN OCCUPIED HOUSING UNITS BY TENURE BY YEAR HOUSEHOLDER MOVED INTO UNIT',\n",
       "  'Estimate!!Total population in occupied housing units!!Owner occupied'),\n",
       " ('B25026_003E',\n",
       "  'TOTAL POPULATION IN OCCUPIED HOUSING UNITS BY TENURE BY YEAR HOUSEHOLDER MOVED INTO UNIT',\n",
       "  'Estimate!!Total population in occupied housing units!!Owner occupied!!Moved in 2017 or later'),\n",
       " ('B25026_004E',\n",
       "  'TOTAL POPULATION IN OCCUPIED HOUSING UNITS BY TENURE BY YEAR HOUSEHOLDER MOVED INTO UNIT',\n",
       "  'Estimate!!Total population in occupied housing units!!Owner occupied!!Moved in 2015 to 2016'),\n",
       " ('B25026_005E',\n",
       "  'TOTAL POPULATION IN OCCUPIED HOUSING UNITS BY TENURE BY YEAR HOUSEHOLDER MOVED INTO UNIT',\n",
       "  'Estimate!!Total population in occupied housing units!!Owner occupied!!Moved in 2010 to 2014'),\n",
       " ('B25026_006E',\n",
       "  'TOTAL POPULATION IN OCCUPIED HOUSING UNITS BY TENURE BY YEAR HOUSEHOLDER MOVED INTO UNIT',\n",
       "  'Estimate!!Total population in occupied housing units!!Owner occupied!!Moved in 2000 to 2009')]"
      ]
     },
     "metadata": {},
     "output_type": "display_data"
    },
    {
     "name": "stdout",
     "output_type": "stream",
     "text": [
      "density\n"
     ]
    },
    {
     "data": {
      "text/plain": [
       "[]"
      ]
     },
     "metadata": {},
     "output_type": "display_data"
    },
    {
     "name": "stdout",
     "output_type": "stream",
     "text": [
      "poverty\n"
     ]
    },
    {
     "data": {
      "text/plain": [
       "[('B05010_001E',\n",
       "  'RATIO OF INCOME TO POVERTY LEVEL IN THE PAST 12 MONTHS BY NATIVITY OF CHILDREN UNDER 18 YEARS IN FAMILIES AND SUBFAMILIES BY LIVING ARRANGEMENTS AND NATIVITY OF PARENTS',\n",
       "  'Estimate!!Total'),\n",
       " ('B05010_002E',\n",
       "  'RATIO OF INCOME TO POVERTY LEVEL IN THE PAST 12 MONTHS BY NATIVITY OF CHILDREN UNDER 18 YEARS IN FAMILIES AND SUBFAMILIES BY LIVING ARRANGEMENTS AND NATIVITY OF PARENTS',\n",
       "  'Estimate!!Total!!Under 1.00'),\n",
       " ('B05010_003E',\n",
       "  'RATIO OF INCOME TO POVERTY LEVEL IN THE PAST 12 MONTHS BY NATIVITY OF CHILDREN UNDER 18 YEARS IN FAMILIES AND SUBFAMILIES BY LIVING ARRANGEMENTS AND NATIVITY OF PARENTS',\n",
       "  'Estimate!!Total!!Under 1.00!!Living with two parents'),\n",
       " ('B05010_004E',\n",
       "  'RATIO OF INCOME TO POVERTY LEVEL IN THE PAST 12 MONTHS BY NATIVITY OF CHILDREN UNDER 18 YEARS IN FAMILIES AND SUBFAMILIES BY LIVING ARRANGEMENTS AND NATIVITY OF PARENTS',\n",
       "  'Estimate!!Total!!Under 1.00!!Living with two parents!!Both parents native'),\n",
       " ('B05010_005E',\n",
       "  'RATIO OF INCOME TO POVERTY LEVEL IN THE PAST 12 MONTHS BY NATIVITY OF CHILDREN UNDER 18 YEARS IN FAMILIES AND SUBFAMILIES BY LIVING ARRANGEMENTS AND NATIVITY OF PARENTS',\n",
       "  'Estimate!!Total!!Under 1.00!!Living with two parents!!Both parents foreign born'),\n",
       " ('B05010_006E',\n",
       "  'RATIO OF INCOME TO POVERTY LEVEL IN THE PAST 12 MONTHS BY NATIVITY OF CHILDREN UNDER 18 YEARS IN FAMILIES AND SUBFAMILIES BY LIVING ARRANGEMENTS AND NATIVITY OF PARENTS',\n",
       "  'Estimate!!Total!!Under 1.00!!Living with two parents!!One native and one foreign-born parent'),\n",
       " ('B05010_007E',\n",
       "  'RATIO OF INCOME TO POVERTY LEVEL IN THE PAST 12 MONTHS BY NATIVITY OF CHILDREN UNDER 18 YEARS IN FAMILIES AND SUBFAMILIES BY LIVING ARRANGEMENTS AND NATIVITY OF PARENTS',\n",
       "  'Estimate!!Total!!Under 1.00!!Living with one parent'),\n",
       " ('B05010_008E',\n",
       "  'RATIO OF INCOME TO POVERTY LEVEL IN THE PAST 12 MONTHS BY NATIVITY OF CHILDREN UNDER 18 YEARS IN FAMILIES AND SUBFAMILIES BY LIVING ARRANGEMENTS AND NATIVITY OF PARENTS',\n",
       "  'Estimate!!Total!!Under 1.00!!Living with one parent!!Native parent'),\n",
       " ('B05010_009E',\n",
       "  'RATIO OF INCOME TO POVERTY LEVEL IN THE PAST 12 MONTHS BY NATIVITY OF CHILDREN UNDER 18 YEARS IN FAMILIES AND SUBFAMILIES BY LIVING ARRANGEMENTS AND NATIVITY OF PARENTS',\n",
       "  'Estimate!!Total!!Under 1.00!!Living with one parent!!Foreign-born parent'),\n",
       " ('B05010_010E',\n",
       "  'RATIO OF INCOME TO POVERTY LEVEL IN THE PAST 12 MONTHS BY NATIVITY OF CHILDREN UNDER 18 YEARS IN FAMILIES AND SUBFAMILIES BY LIVING ARRANGEMENTS AND NATIVITY OF PARENTS',\n",
       "  'Estimate!!Total!!1.00 to 1.99')]"
      ]
     },
     "metadata": {},
     "output_type": "display_data"
    },
    {
     "name": "stdout",
     "output_type": "stream",
     "text": [
      "income\n"
     ]
    },
    {
     "data": {
      "text/plain": [
       "[('B05010_001E',\n",
       "  'RATIO OF INCOME TO POVERTY LEVEL IN THE PAST 12 MONTHS BY NATIVITY OF CHILDREN UNDER 18 YEARS IN FAMILIES AND SUBFAMILIES BY LIVING ARRANGEMENTS AND NATIVITY OF PARENTS',\n",
       "  'Estimate!!Total'),\n",
       " ('B05010_002E',\n",
       "  'RATIO OF INCOME TO POVERTY LEVEL IN THE PAST 12 MONTHS BY NATIVITY OF CHILDREN UNDER 18 YEARS IN FAMILIES AND SUBFAMILIES BY LIVING ARRANGEMENTS AND NATIVITY OF PARENTS',\n",
       "  'Estimate!!Total!!Under 1.00'),\n",
       " ('B05010_003E',\n",
       "  'RATIO OF INCOME TO POVERTY LEVEL IN THE PAST 12 MONTHS BY NATIVITY OF CHILDREN UNDER 18 YEARS IN FAMILIES AND SUBFAMILIES BY LIVING ARRANGEMENTS AND NATIVITY OF PARENTS',\n",
       "  'Estimate!!Total!!Under 1.00!!Living with two parents'),\n",
       " ('B05010_004E',\n",
       "  'RATIO OF INCOME TO POVERTY LEVEL IN THE PAST 12 MONTHS BY NATIVITY OF CHILDREN UNDER 18 YEARS IN FAMILIES AND SUBFAMILIES BY LIVING ARRANGEMENTS AND NATIVITY OF PARENTS',\n",
       "  'Estimate!!Total!!Under 1.00!!Living with two parents!!Both parents native'),\n",
       " ('B05010_005E',\n",
       "  'RATIO OF INCOME TO POVERTY LEVEL IN THE PAST 12 MONTHS BY NATIVITY OF CHILDREN UNDER 18 YEARS IN FAMILIES AND SUBFAMILIES BY LIVING ARRANGEMENTS AND NATIVITY OF PARENTS',\n",
       "  'Estimate!!Total!!Under 1.00!!Living with two parents!!Both parents foreign born'),\n",
       " ('B05010_006E',\n",
       "  'RATIO OF INCOME TO POVERTY LEVEL IN THE PAST 12 MONTHS BY NATIVITY OF CHILDREN UNDER 18 YEARS IN FAMILIES AND SUBFAMILIES BY LIVING ARRANGEMENTS AND NATIVITY OF PARENTS',\n",
       "  'Estimate!!Total!!Under 1.00!!Living with two parents!!One native and one foreign-born parent'),\n",
       " ('B05010_007E',\n",
       "  'RATIO OF INCOME TO POVERTY LEVEL IN THE PAST 12 MONTHS BY NATIVITY OF CHILDREN UNDER 18 YEARS IN FAMILIES AND SUBFAMILIES BY LIVING ARRANGEMENTS AND NATIVITY OF PARENTS',\n",
       "  'Estimate!!Total!!Under 1.00!!Living with one parent'),\n",
       " ('B05010_008E',\n",
       "  'RATIO OF INCOME TO POVERTY LEVEL IN THE PAST 12 MONTHS BY NATIVITY OF CHILDREN UNDER 18 YEARS IN FAMILIES AND SUBFAMILIES BY LIVING ARRANGEMENTS AND NATIVITY OF PARENTS',\n",
       "  'Estimate!!Total!!Under 1.00!!Living with one parent!!Native parent'),\n",
       " ('B05010_009E',\n",
       "  'RATIO OF INCOME TO POVERTY LEVEL IN THE PAST 12 MONTHS BY NATIVITY OF CHILDREN UNDER 18 YEARS IN FAMILIES AND SUBFAMILIES BY LIVING ARRANGEMENTS AND NATIVITY OF PARENTS',\n",
       "  'Estimate!!Total!!Under 1.00!!Living with one parent!!Foreign-born parent'),\n",
       " ('B05010_010E',\n",
       "  'RATIO OF INCOME TO POVERTY LEVEL IN THE PAST 12 MONTHS BY NATIVITY OF CHILDREN UNDER 18 YEARS IN FAMILIES AND SUBFAMILIES BY LIVING ARRANGEMENTS AND NATIVITY OF PARENTS',\n",
       "  'Estimate!!Total!!1.00 to 1.99')]"
      ]
     },
     "metadata": {},
     "output_type": "display_data"
    },
    {
     "name": "stdout",
     "output_type": "stream",
     "text": [
      "labor\n"
     ]
    },
    {
     "data": {
      "text/plain": [
       "[('B12006_001E',\n",
       "  'MARITAL STATUS BY SEX BY LABOR FORCE PARTICIPATION',\n",
       "  'Estimate!!Total'),\n",
       " ('B12006_002E',\n",
       "  'MARITAL STATUS BY SEX BY LABOR FORCE PARTICIPATION',\n",
       "  'Estimate!!Total!!Never married'),\n",
       " ('B12006_003E',\n",
       "  'MARITAL STATUS BY SEX BY LABOR FORCE PARTICIPATION',\n",
       "  'Estimate!!Total!!Never married!!Male'),\n",
       " ('B12006_004E',\n",
       "  'MARITAL STATUS BY SEX BY LABOR FORCE PARTICIPATION',\n",
       "  'Estimate!!Total!!Never married!!Male!!In labor force'),\n",
       " ('B12006_005E',\n",
       "  'MARITAL STATUS BY SEX BY LABOR FORCE PARTICIPATION',\n",
       "  'Estimate!!Total!!Never married!!Male!!In labor force!!Employed or in Armed Forces'),\n",
       " ('B12006_006E',\n",
       "  'MARITAL STATUS BY SEX BY LABOR FORCE PARTICIPATION',\n",
       "  'Estimate!!Total!!Never married!!Male!!In labor force!!Unemployed'),\n",
       " ('B12006_007E',\n",
       "  'MARITAL STATUS BY SEX BY LABOR FORCE PARTICIPATION',\n",
       "  'Estimate!!Total!!Never married!!Male!!Not in labor force'),\n",
       " ('B12006_008E',\n",
       "  'MARITAL STATUS BY SEX BY LABOR FORCE PARTICIPATION',\n",
       "  'Estimate!!Total!!Never married!!Female'),\n",
       " ('B12006_009E',\n",
       "  'MARITAL STATUS BY SEX BY LABOR FORCE PARTICIPATION',\n",
       "  'Estimate!!Total!!Never married!!Female!!In labor force'),\n",
       " ('B12006_010E',\n",
       "  'MARITAL STATUS BY SEX BY LABOR FORCE PARTICIPATION',\n",
       "  'Estimate!!Total!!Never married!!Female!!In labor force!!Employed or in Armed Forces')]"
      ]
     },
     "metadata": {},
     "output_type": "display_data"
    },
    {
     "name": "stdout",
     "output_type": "stream",
     "text": [
      "employment\n"
     ]
    },
    {
     "data": {
      "text/plain": [
       "[('B10058_001E',\n",
       "  'EMPLOYMENT STATUS OF GRANDPARENTS LIVING WITH OWN GRANDCHILDREN UNDER 18 YEARS BY RESPONSIBILITY FOR OWN GRANDCHILDREN AND AGE OF GRANDPARENT',\n",
       "  'Estimate!!Total'),\n",
       " ('B10058_002E',\n",
       "  'EMPLOYMENT STATUS OF GRANDPARENTS LIVING WITH OWN GRANDCHILDREN UNDER 18 YEARS BY RESPONSIBILITY FOR OWN GRANDCHILDREN AND AGE OF GRANDPARENT',\n",
       "  'Estimate!!Total!!In labor force'),\n",
       " ('B10058_003E',\n",
       "  'EMPLOYMENT STATUS OF GRANDPARENTS LIVING WITH OWN GRANDCHILDREN UNDER 18 YEARS BY RESPONSIBILITY FOR OWN GRANDCHILDREN AND AGE OF GRANDPARENT',\n",
       "  'Estimate!!Total!!In labor force!!Grandparent responsible for own grandchildren under 18 years'),\n",
       " ('B10058_004E',\n",
       "  'EMPLOYMENT STATUS OF GRANDPARENTS LIVING WITH OWN GRANDCHILDREN UNDER 18 YEARS BY RESPONSIBILITY FOR OWN GRANDCHILDREN AND AGE OF GRANDPARENT',\n",
       "  'Estimate!!Total!!In labor force!!Grandparent responsible for own grandchildren under 18 years!!30 to 59 years'),\n",
       " ('B10058_005E',\n",
       "  'EMPLOYMENT STATUS OF GRANDPARENTS LIVING WITH OWN GRANDCHILDREN UNDER 18 YEARS BY RESPONSIBILITY FOR OWN GRANDCHILDREN AND AGE OF GRANDPARENT',\n",
       "  'Estimate!!Total!!In labor force!!Grandparent responsible for own grandchildren under 18 years!!60 years and over'),\n",
       " ('B10058_006E',\n",
       "  'EMPLOYMENT STATUS OF GRANDPARENTS LIVING WITH OWN GRANDCHILDREN UNDER 18 YEARS BY RESPONSIBILITY FOR OWN GRANDCHILDREN AND AGE OF GRANDPARENT',\n",
       "  'Estimate!!Total!!In labor force!!Grandparent not responsible for own grandchildren under 18 years'),\n",
       " ('B10058_007E',\n",
       "  'EMPLOYMENT STATUS OF GRANDPARENTS LIVING WITH OWN GRANDCHILDREN UNDER 18 YEARS BY RESPONSIBILITY FOR OWN GRANDCHILDREN AND AGE OF GRANDPARENT',\n",
       "  'Estimate!!Total!!Not in labor force'),\n",
       " ('B10058_008E',\n",
       "  'EMPLOYMENT STATUS OF GRANDPARENTS LIVING WITH OWN GRANDCHILDREN UNDER 18 YEARS BY RESPONSIBILITY FOR OWN GRANDCHILDREN AND AGE OF GRANDPARENT',\n",
       "  'Estimate!!Total!!Not in labor force!!Grandparent responsible for own grandchildren under 18 years'),\n",
       " ('B10058_009E',\n",
       "  'EMPLOYMENT STATUS OF GRANDPARENTS LIVING WITH OWN GRANDCHILDREN UNDER 18 YEARS BY RESPONSIBILITY FOR OWN GRANDCHILDREN AND AGE OF GRANDPARENT',\n",
       "  'Estimate!!Total!!Not in labor force!!Grandparent responsible for own grandchildren under 18 years!!30 to 59 years'),\n",
       " ('B10058_010E',\n",
       "  'EMPLOYMENT STATUS OF GRANDPARENTS LIVING WITH OWN GRANDCHILDREN UNDER 18 YEARS BY RESPONSIBILITY FOR OWN GRANDCHILDREN AND AGE OF GRANDPARENT',\n",
       "  'Estimate!!Total!!Not in labor force!!Grandparent responsible for own grandchildren under 18 years!!60 years and over')]"
      ]
     },
     "metadata": {},
     "output_type": "display_data"
    }
   ],
   "source": [
    "# search for all variables in by concept\n",
    "for word in key_words:\n",
    "    print(word)\n",
    "    display(censusdata.search('acs5', 2018, 'concept', word)[0:10]) #restricted range as this is still buggy (seems to return extra results for 'GEOID' variable)"
   ]
  },
  {
   "cell_type": "code",
   "execution_count": 308,
   "metadata": {},
   "outputs": [
    {
     "name": "stdout",
     "output_type": "stream",
     "text": [
      "Variable     | Table                          | Label                                                    | Type \n",
      "-------------------------------------------------------------------------------------------------------------------\n",
      "B25008_001E  | TOTAL POPULATION IN OCCUPIED H | !! Estimate Total                                        | int  \n",
      "B25008_002E  | TOTAL POPULATION IN OCCUPIED H | !! !! Estimate Total Owner occupied                      | int  \n",
      "B25008_003E  | TOTAL POPULATION IN OCCUPIED H | !! !! Estimate Total Renter occupied                     | int  \n",
      "-------------------------------------------------------------------------------------------------------------------\n"
     ]
    }
   ],
   "source": [
    "# get information on a target variable\n",
    "censusdata.printtable(censusdata.censustable('acs5', 2018, 'B25008'))\n",
    "pop_occupied_housing_variables = list(censusdata.censustable('acs5', 2018, 'B25008').keys())"
   ]
  },
  {
   "cell_type": "code",
   "execution_count": 309,
   "metadata": {},
   "outputs": [
    {
     "data": {
      "text/plain": [
       "['B25008_001E', 'B25008_002E', 'B25008_003E']"
      ]
     },
     "execution_count": 309,
     "metadata": {},
     "output_type": "execute_result"
    }
   ],
   "source": [
    "pop_occupied_housing_variables # this can be fed into the acs variable extractor"
   ]
  },
  {
   "cell_type": "markdown",
   "metadata": {},
   "source": [
    "#### Appendix B - EXTRA FEATURE: Extracting Zip Code Data"
   ]
  },
  {
   "cell_type": "code",
   "execution_count": 310,
   "metadata": {},
   "outputs": [
    {
     "data": {
      "text/html": [
       "<div>\n",
       "<style scoped>\n",
       "    .dataframe tbody tr th:only-of-type {\n",
       "        vertical-align: middle;\n",
       "    }\n",
       "\n",
       "    .dataframe tbody tr th {\n",
       "        vertical-align: top;\n",
       "    }\n",
       "\n",
       "    .dataframe thead th {\n",
       "        text-align: right;\n",
       "    }\n",
       "</style>\n",
       "<table border=\"1\" class=\"dataframe\">\n",
       "  <thead>\n",
       "    <tr style=\"text-align: right;\">\n",
       "      <th></th>\n",
       "      <th>B25008_001E</th>\n",
       "      <th>B25008_002E</th>\n",
       "      <th>B25008_003E</th>\n",
       "    </tr>\n",
       "  </thead>\n",
       "  <tbody>\n",
       "    <tr>\n",
       "      <th>ZCTA5 43964: Summary level: 860, zip code tabulation area:43964</th>\n",
       "      <td>8608</td>\n",
       "      <td>6300</td>\n",
       "      <td>2308</td>\n",
       "    </tr>\n",
       "    <tr>\n",
       "      <th>ZCTA5 28216: Summary level: 860, zip code tabulation area:28216</th>\n",
       "      <td>50246</td>\n",
       "      <td>27296</td>\n",
       "      <td>22950</td>\n",
       "    </tr>\n",
       "    <tr>\n",
       "      <th>ZCTA5 28277: Summary level: 860, zip code tabulation area:28277</th>\n",
       "      <td>71605</td>\n",
       "      <td>52982</td>\n",
       "      <td>18623</td>\n",
       "    </tr>\n",
       "    <tr>\n",
       "      <th>ZCTA5 28278: Summary level: 860, zip code tabulation area:28278</th>\n",
       "      <td>27286</td>\n",
       "      <td>19498</td>\n",
       "      <td>7788</td>\n",
       "    </tr>\n",
       "    <tr>\n",
       "      <th>ZCTA5 28303: Summary level: 860, zip code tabulation area:28303</th>\n",
       "      <td>29202</td>\n",
       "      <td>13987</td>\n",
       "      <td>15215</td>\n",
       "    </tr>\n",
       "    <tr>\n",
       "      <th>...</th>\n",
       "      <td>...</td>\n",
       "      <td>...</td>\n",
       "      <td>...</td>\n",
       "    </tr>\n",
       "    <tr>\n",
       "      <th>ZCTA5 98279: Summary level: 860, zip code tabulation area:98279</th>\n",
       "      <td>628</td>\n",
       "      <td>496</td>\n",
       "      <td>132</td>\n",
       "    </tr>\n",
       "    <tr>\n",
       "      <th>ZCTA5 98280: Summary level: 860, zip code tabulation area:98280</th>\n",
       "      <td>417</td>\n",
       "      <td>394</td>\n",
       "      <td>23</td>\n",
       "    </tr>\n",
       "    <tr>\n",
       "      <th>ZCTA5 98311: Summary level: 860, zip code tabulation area:98311</th>\n",
       "      <td>27657</td>\n",
       "      <td>20346</td>\n",
       "      <td>7311</td>\n",
       "    </tr>\n",
       "    <tr>\n",
       "      <th>ZCTA5 98326: Summary level: 860, zip code tabulation area:98326</th>\n",
       "      <td>493</td>\n",
       "      <td>346</td>\n",
       "      <td>147</td>\n",
       "    </tr>\n",
       "    <tr>\n",
       "      <th>ZCTA5 98332: Summary level: 860, zip code tabulation area:98332</th>\n",
       "      <td>17065</td>\n",
       "      <td>14595</td>\n",
       "      <td>2470</td>\n",
       "    </tr>\n",
       "  </tbody>\n",
       "</table>\n",
       "<p>33120 rows × 3 columns</p>\n",
       "</div>"
      ],
      "text/plain": [
       "                                                    B25008_001E  B25008_002E  \\\n",
       "ZCTA5 43964: Summary level: 860, zip code tabul...         8608         6300   \n",
       "ZCTA5 28216: Summary level: 860, zip code tabul...        50246        27296   \n",
       "ZCTA5 28277: Summary level: 860, zip code tabul...        71605        52982   \n",
       "ZCTA5 28278: Summary level: 860, zip code tabul...        27286        19498   \n",
       "ZCTA5 28303: Summary level: 860, zip code tabul...        29202        13987   \n",
       "...                                                         ...          ...   \n",
       "ZCTA5 98279: Summary level: 860, zip code tabul...          628          496   \n",
       "ZCTA5 98280: Summary level: 860, zip code tabul...          417          394   \n",
       "ZCTA5 98311: Summary level: 860, zip code tabul...        27657        20346   \n",
       "ZCTA5 98326: Summary level: 860, zip code tabul...          493          346   \n",
       "ZCTA5 98332: Summary level: 860, zip code tabul...        17065        14595   \n",
       "\n",
       "                                                    B25008_003E  \n",
       "ZCTA5 43964: Summary level: 860, zip code tabul...         2308  \n",
       "ZCTA5 28216: Summary level: 860, zip code tabul...        22950  \n",
       "ZCTA5 28277: Summary level: 860, zip code tabul...        18623  \n",
       "ZCTA5 28278: Summary level: 860, zip code tabul...         7788  \n",
       "ZCTA5 28303: Summary level: 860, zip code tabul...        15215  \n",
       "...                                                         ...  \n",
       "ZCTA5 98279: Summary level: 860, zip code tabul...          132  \n",
       "ZCTA5 98280: Summary level: 860, zip code tabul...           23  \n",
       "ZCTA5 98311: Summary level: 860, zip code tabul...         7311  \n",
       "ZCTA5 98326: Summary level: 860, zip code tabul...          147  \n",
       "ZCTA5 98332: Summary level: 860, zip code tabul...         2470  \n",
       "\n",
       "[33120 rows x 3 columns]"
      ]
     },
     "execution_count": 310,
     "metadata": {},
     "output_type": "execute_result"
    }
   ],
   "source": [
    "# download above housing variable data for all zip codes\n",
    "pop_occupied_housing_zip = censusdata.download('acs5', 2018, censusdata.censusgeo([('zip code tabulation area', '*')]), pop_occupied_housing_variables) # '*' can be replaced by specific zip code\n",
    "pop_occupied_housing_zip"
   ]
  }
 ],
 "metadata": {
  "kernelspec": {
   "display_name": "Python 3",
   "language": "python",
   "name": "python3"
  },
  "language_info": {
   "codemirror_mode": {
    "name": "ipython",
    "version": 3
   },
   "file_extension": ".py",
   "mimetype": "text/x-python",
   "name": "python",
   "nbconvert_exporter": "python",
   "pygments_lexer": "ipython3",
   "version": "3.7.3"
  }
 },
 "nbformat": 4,
 "nbformat_minor": 4
}
